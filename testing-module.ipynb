{
 "cells": [
  {
   "cell_type": "code",
   "execution_count": 170,
   "id": "eb54a796",
   "metadata": {},
   "outputs": [
    {
     "name": "stdout",
     "output_type": "stream",
     "text": [
      "The autoreload extension is already loaded. To reload it, use:\n",
      "  %reload_ext autoreload\n"
     ]
    }
   ],
   "source": [
    "import PIL\n",
    "from PIL import Image, ImageDraw\n",
    "import colorsys\n",
    "import random\n",
    "import math\n",
    "import numpy as np\n",
    "import matplotlib.pyplot as plt\n",
    "\n",
    "%load_ext autoreload\n",
    "%autoreload 2\n",
    "from Modules import shapes\n",
    "from Modules import colors"
   ]
  },
  {
   "cell_type": "code",
   "execution_count": 171,
   "id": "8e447b14",
   "metadata": {},
   "outputs": [
    {
     "data": {
      "text/plain": [
       "'\\nEach image will have at least one of and up to all of the following: \\n\\n1. A triangle\\n2. A circle\\n3. A square\\n'"
      ]
     },
     "execution_count": 171,
     "metadata": {},
     "output_type": "execute_result"
    }
   ],
   "source": [
    "#we will focus on drawing the images first. \n",
    "\n",
    "\"\"\"\n",
    "Each image will have at least one of and up to all of the following: \n",
    "\n",
    "1. A triangle\n",
    "2. A circle\n",
    "3. A square\n",
    "\"\"\""
   ]
  },
  {
   "cell_type": "code",
   "execution_count": 174,
   "id": "1537b314",
   "metadata": {},
   "outputs": [],
   "source": [
    "color_picker = colors.ColorPicker(colors.KNOWN_COLORS)"
   ]
  },
  {
   "cell_type": "code",
   "execution_count": 175,
   "id": "b83c53e6",
   "metadata": {},
   "outputs": [
    {
     "data": {
      "text/plain": [
       "[0, 120, 60, 90]"
      ]
     },
     "execution_count": 175,
     "metadata": {},
     "output_type": "execute_result"
    }
   ],
   "source": [
    "color_picker(4)"
   ]
  },
  {
   "cell_type": "code",
   "execution_count": 3,
   "id": "6f37495a",
   "metadata": {},
   "outputs": [],
   "source": [
    "\"\"\"\n",
    "This is how to generate an image with a background color\n",
    "\"\"\"\n",
    "canvas_size = (224, 224)\n",
    "canvas_color = (228, 150, 150)\n",
    "\n",
    "canvas = Image.new(mode='RGB',\n",
    "                   size=canvas_size,\n",
    "                   color=canvas_color,\n",
    "                  )"
   ]
  },
  {
   "cell_type": "code",
   "execution_count": 4,
   "id": "b6d0bba2",
   "metadata": {},
   "outputs": [],
   "source": [
    "#canvas.show()"
   ]
  },
  {
   "cell_type": "code",
   "execution_count": 5,
   "id": "c73c2cc3",
   "metadata": {},
   "outputs": [],
   "source": [
    "draw = ImageDraw.Draw(canvas)"
   ]
  },
  {
   "cell_type": "code",
   "execution_count": 6,
   "id": "6a590b8a",
   "metadata": {},
   "outputs": [],
   "source": [
    "\"\"\"\n",
    "Here we will draw a triangle\n",
    "\"\"\"\n",
    "# coordinates = [\n",
    "#     (12, 72),\n",
    "#     (40, 37),\n",
    "#     (100, 96)\n",
    "# ]\n",
    "# color = (132, 25, 68)\n",
    "# draw.polygon(xy=coordinates,\n",
    "#              fill=color)\n",
    "\n",
    "triangle = shapes.Triangle()(image_shape=canvas_size, color=(132, 25, 68))\n",
    "draw.polygon(xy=triangle.parameterization,\n",
    "             fill=triangle.color)"
   ]
  },
  {
   "cell_type": "code",
   "execution_count": 7,
   "id": "0a6237aa",
   "metadata": {},
   "outputs": [],
   "source": [
    "#canvas.show()"
   ]
  },
  {
   "cell_type": "code",
   "execution_count": 8,
   "id": "6b7ff917",
   "metadata": {},
   "outputs": [],
   "source": [
    "\"\"\"\n",
    "Here we draw a circle\n",
    "\n",
    "draw.ellipse()\n",
    "\n",
    "PARAMETERS:\n",
    "xy – Two points to define the bounding box. Sequence of either [(x0, y0), (x1, y1)] or [x0, y0, x1, y1], where x1 >= x0 and y1 >= y0.\n",
    "\n",
    "outline – Color to use for the outline.\n",
    "\n",
    "fill – Color to use for the fill.\n",
    "\n",
    "width –\n",
    "\n",
    "The line width, in pixels.\n",
    "\"\"\"\n",
    "\n",
    "\n",
    "# def generate_bounding_box(starting_point, size):\n",
    "#     \"\"\"Given the x0, y0, generate the x1, y1 where x1 > x0 and y1 > y0\"\"\"\n",
    "#     other_point = tuple(point + size for point in starting_point)\n",
    "#     parameterization = [starting_point, other_point]\n",
    "#     return parameterization\n",
    "\n",
    "# starting_point = (200, 200)\n",
    "# color = (177, 200, 37)\n",
    "# draw.ellipse(xy=generate_bounding_box(starting_point, 50),\n",
    "#             fill=color)\n",
    "\n",
    "specifications = {\n",
    "    'min_size': 25,\n",
    "    'max_size': 66\n",
    "}\n",
    "\n",
    "circle = shapes.Circle(specifications=specifications)(color=(177, 200, 37), image_shape=canvas_size)\n",
    "draw.ellipse(xy=circle.parameterization,\n",
    "             fill=circle.color)"
   ]
  },
  {
   "cell_type": "code",
   "execution_count": 9,
   "id": "f7dacb6c",
   "metadata": {},
   "outputs": [],
   "source": [
    "#canvas.show()"
   ]
  },
  {
   "cell_type": "code",
   "execution_count": 10,
   "id": "1c9973aa",
   "metadata": {},
   "outputs": [],
   "source": [
    "\"\"\"\n",
    "Now lets make the square\n",
    "\"\"\"\n",
    "\n",
    "specifications = {\n",
    "    'min_size': 30,\n",
    "    'max_size': 82\n",
    "}\n",
    "# starting_point = (170, 100)\n",
    "fillcolor = (69, 69, 69)\n",
    "# draw.rectangle(xy=generate_bounding_box(starting_point, 75),\n",
    "#                fill=fillcolor)\n",
    "\n",
    "square = shapes.Square(specifications=specifications)(color=fillcolor,image_shape=canvas_size)\n",
    "draw.rectangle(xy=square.parameterization,\n",
    "               fill=square.color)"
   ]
  },
  {
   "cell_type": "code",
   "execution_count": 11,
   "id": "5b570d6a",
   "metadata": {},
   "outputs": [],
   "source": [
    "canvas.show()"
   ]
  },
  {
   "cell_type": "markdown",
   "id": "7ba59082",
   "metadata": {},
   "source": [
    "## Exploring color generation"
   ]
  },
  {
   "cell_type": "code",
   "execution_count": 37,
   "id": "4edca4c7",
   "metadata": {},
   "outputs": [],
   "source": [
    "\"\"\"\n",
    "We will use hls coordinates and convert to rgb for the image making\n",
    "\"\"\"\n",
    "\n",
    "HSL_PARAMETERS = {'hue':360,\n",
    "                  'lightness':100,\n",
    "                  'saturation':100,}\n",
    "\n",
    "def normalize_hls(coordinates: tuple):\n",
    "    \"\"\"normalizes the hls coordinates\"\"\"\n",
    "    hue, lightness, saturation = coordinates\n",
    "    return (hue / HSL_PARAMETERS['hue'],\n",
    "            lightness / HSL_PARAMETERS['lightness'],\n",
    "            saturation / HSL_PARAMETERS['saturation'])"
   ]
  },
  {
   "cell_type": "code",
   "execution_count": 38,
   "id": "19595020",
   "metadata": {},
   "outputs": [],
   "source": [
    "def rgb_scaler(value: float):\n",
    "    rounding_safe_scalar = min(1.0, value)\n",
    "    if rounding_safe_scalar == 1.0:\n",
    "        return 255\n",
    "    else:\n",
    "        return value * 256\n",
    "\n",
    "def to_rgb(normed_hls: tuple):\n",
    "    \"\"\"produces an rgb tuple\"\"\"\n",
    "    return tuple( math.floor(rgb_scaler(value)) for value in normed_hls)"
   ]
  },
  {
   "cell_type": "code",
   "execution_count": 39,
   "id": "60e89b35",
   "metadata": {},
   "outputs": [],
   "source": [
    "def native_hls_to_rgb(unnormed_coord: tuple):\n",
    "    \"\"\"changes an unnormed coord in hls to an unnormed rgb coord\"\"\"\n",
    "    return to_rgb(colorsys.hls_to_rgb(*normalize_hls(unnormed_coord)))"
   ]
  },
  {
   "cell_type": "code",
   "execution_count": 42,
   "id": "7669115a",
   "metadata": {},
   "outputs": [
    {
     "name": "stdout",
     "output_type": "stream",
     "text": [
      "(0, 0, 0)\n"
     ]
    }
   ],
   "source": [
    "example_hls = (0, 0, 0)\n",
    "print(native_hls_to_rgb(example_hls))"
   ]
  },
  {
   "cell_type": "code",
   "execution_count": 124,
   "id": "719cdfd5",
   "metadata": {},
   "outputs": [],
   "source": [
    "accepted_colors = np.arange(0, 275, 30)"
   ]
  },
  {
   "cell_type": "code",
   "execution_count": 132,
   "id": "7f0dc674",
   "metadata": {},
   "outputs": [
    {
     "data": {
      "text/plain": [
       "array([  0,  30,  60,  90, 120, 150, 180, 210, 240, 270])"
      ]
     },
     "execution_count": 132,
     "metadata": {},
     "output_type": "execute_result"
    }
   ],
   "source": [
    "accepted_colors"
   ]
  },
  {
   "cell_type": "code",
   "execution_count": 133,
   "id": "829e8043",
   "metadata": {},
   "outputs": [],
   "source": [
    "#accepted_colors = accepted_colors[:-3]"
   ]
  },
  {
   "cell_type": "code",
   "execution_count": 134,
   "id": "8b411a14",
   "metadata": {},
   "outputs": [
    {
     "data": {
      "text/plain": [
       "array([  0,  30,  60,  90, 120, 150, 180, 210, 240, 270])"
      ]
     },
     "execution_count": 134,
     "metadata": {},
     "output_type": "execute_result"
    }
   ],
   "source": [
    "accepted_colors"
   ]
  },
  {
   "cell_type": "code",
   "execution_count": 135,
   "id": "1de0472a",
   "metadata": {},
   "outputs": [],
   "source": [
    "example_saturation = 41\n",
    "example_lightness = 67"
   ]
  },
  {
   "cell_type": "code",
   "execution_count": 168,
   "id": "1082fec2",
   "metadata": {},
   "outputs": [
    {
     "name": "stdout",
     "output_type": "stream",
     "text": [
      "120\n"
     ]
    }
   ],
   "source": [
    "number = accepted_colors[4]\n",
    "print(number)\n",
    "example_hls = (number, example_lightness, example_saturation) #accepted_colors[]\n",
    "example_rgb = native_hls_to_rgb(example_hls)"
   ]
  },
  {
   "cell_type": "code",
   "execution_count": 169,
   "id": "a9e21114",
   "metadata": {},
   "outputs": [
    {
     "data": {
      "text/plain": [
       "<matplotlib.image.AxesImage at 0x7fecf9081c10>"
      ]
     },
     "execution_count": 169,
     "metadata": {},
     "output_type": "execute_result"
    },
    {
     "data": {
      "image/png": "[encoded data removed]",
      "text/plain": [
       "<Figure size 432x288 with 1 Axes>"
      ]
     },
     "metadata": {
      "needs_background": "light"
     },
     "output_type": "display_data"
    }
   ],
   "source": [
    "plt.imshow([[tuple( thing / 255 for thing in example_rgb)]])"
   ]
  },
  {
   "cell_type": "code",
   "execution_count": null,
   "id": "30dec42f",
   "metadata": {},
   "outputs": [],
   "source": [
    "accepted_colors = [0, 30, 60, 90, 120, 210, 240, 270]"
   ]
  }
 ],
 "metadata": {
  "kernelspec": {
   "display_name": "Python [conda env:basic-pytorch]",
   "language": "python",
   "name": "conda-env-basic-pytorch-py"
  },
  "language_info": {
   "codemirror_mode": {
    "name": "ipython",
    "version": 3
   },
   "file_extension": ".py",
   "mimetype": "text/x-python",
   "name": "python",
   "nbconvert_exporter": "python",
   "pygments_lexer": "ipython3",
   "version": "3.7.13"
  }
 },
 "nbformat": 4,
 "nbformat_minor": 5
}
