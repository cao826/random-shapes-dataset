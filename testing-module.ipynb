{
 "cells": [
  {
   "cell_type": "code",
   "execution_count": 1,
   "id": "eb54a796",
   "metadata": {},
   "outputs": [],
   "source": [
    "import PIL\n",
    "from PIL import Image, ImageDraw\n",
    "import colorsys\n",
    "import random\n",
    "import math\n",
    "import numpy as np\n",
    "import matplotlib.pyplot as plt\n",
    "from matplotlib import patches\n",
    "\n",
    "%load_ext autoreload\n",
    "%autoreload 2\n",
    "from Modules import shapes\n",
    "from Modules import colors\n",
    "from Modules import image_maker"
   ]
  },
  {
   "cell_type": "code",
   "execution_count": 2,
   "id": "8e447b14",
   "metadata": {},
   "outputs": [
    {
     "data": {
      "text/plain": [
       "'\\nEach image will have at least one of and up to all of the following: \\n\\n1. A triangle\\n2. A circle\\n3. A square\\n'"
      ]
     },
     "execution_count": 2,
     "metadata": {},
     "output_type": "execute_result"
    }
   ],
   "source": [
    "#we will focus on drawing the images first. \n",
    "\n",
    "\"\"\"\n",
    "Each image will have at least one of and up to all of the following: \n",
    "\n",
    "1. A triangle\n",
    "2. A circle\n",
    "3. A square\n",
    "\"\"\""
   ]
  },
  {
   "cell_type": "code",
   "execution_count": 3,
   "id": "1537b314",
   "metadata": {},
   "outputs": [],
   "source": [
    "color_picker = colors.ColorPicker(colors.KNOWN_COLORS, colors.default_hls_settings)"
   ]
  },
  {
   "cell_type": "code",
   "execution_count": 4,
   "id": "b83c53e6",
   "metadata": {},
   "outputs": [],
   "source": [
    "colors_lst = color_picker(4)"
   ]
  },
  {
   "cell_type": "code",
   "execution_count": 5,
   "id": "4804dac9",
   "metadata": {},
   "outputs": [],
   "source": [
    "#print(colors)"
   ]
  },
  {
   "cell_type": "code",
   "execution_count": 6,
   "id": "1a8d1d18",
   "metadata": {},
   "outputs": [],
   "source": [
    "#colors.pop()"
   ]
  },
  {
   "cell_type": "code",
   "execution_count": 7,
   "id": "d6b52a36",
   "metadata": {},
   "outputs": [],
   "source": [
    "#print(colors)"
   ]
  },
  {
   "cell_type": "code",
   "execution_count": 8,
   "id": "6f37495a",
   "metadata": {},
   "outputs": [],
   "source": [
    "\"\"\"\n",
    "This is how to generate an image with a background color\n",
    "\"\"\"\n",
    "canvas_size = (224, 224)\n",
    "canvas_color = (228, 150, 150)\n",
    "\n",
    "canvas = Image.new(mode='RGB',\n",
    "                   size=canvas_size,\n",
    "                   color=colors_lst.pop(),\n",
    "                  )"
   ]
  },
  {
   "cell_type": "code",
   "execution_count": 9,
   "id": "b6d0bba2",
   "metadata": {},
   "outputs": [],
   "source": [
    "#canvas.show()"
   ]
  },
  {
   "cell_type": "code",
   "execution_count": 10,
   "id": "c73c2cc3",
   "metadata": {},
   "outputs": [],
   "source": [
    "draw = ImageDraw.Draw(canvas)"
   ]
  },
  {
   "cell_type": "code",
   "execution_count": 11,
   "id": "6a590b8a",
   "metadata": {},
   "outputs": [],
   "source": [
    "\"\"\"\n",
    "Here we will draw a triangle\n",
    "\"\"\"\n",
    "# coordinates = [\n",
    "#     (12, 72),\n",
    "#     (40, 37),\n",
    "#     (100, 96)\n",
    "# ]\n",
    "# color = (132, 25, 68)\n",
    "# draw.polygon(xy=coordinates,\n",
    "#              fill=color)\n",
    "\n",
    "triangle = shapes.Triangle()(image_shape=canvas_size, color=colors_lst.pop())\n",
    "draw.polygon(xy=triangle.parameterization,\n",
    "             fill=triangle.color)"
   ]
  },
  {
   "cell_type": "code",
   "execution_count": 12,
   "id": "0a6237aa",
   "metadata": {},
   "outputs": [],
   "source": [
    "#canvas.show()"
   ]
  },
  {
   "cell_type": "code",
   "execution_count": 13,
   "id": "6b7ff917",
   "metadata": {},
   "outputs": [],
   "source": [
    "\"\"\"\n",
    "Here we draw a circle\n",
    "\n",
    "draw.ellipse()\n",
    "\n",
    "PARAMETERS:\n",
    "xy – Two points to define the bounding box. Sequence of either [(x0, y0), (x1, y1)] or [x0, y0, x1, y1], where x1 >= x0 and y1 >= y0.\n",
    "\n",
    "outline – Color to use for the outline.\n",
    "\n",
    "fill – Color to use for the fill.\n",
    "\n",
    "width –\n",
    "\n",
    "The line width, in pixels.\n",
    "\"\"\"\n",
    "\n",
    "\n",
    "# def generate_bounding_box(starting_point, size):\n",
    "#     \"\"\"Given the x0, y0, generate the x1, y1 where x1 > x0 and y1 > y0\"\"\"\n",
    "#     other_point = tuple(point + size for point in starting_point)\n",
    "#     parameterization = [starting_point, other_point]\n",
    "#     return parameterization\n",
    "\n",
    "# starting_point = (200, 200)\n",
    "# color = (177, 200, 37)\n",
    "# draw.ellipse(xy=generate_bounding_box(starting_point, 50),\n",
    "#             fill=color)\n",
    "\n",
    "specifications = {\n",
    "    'min_size': 25,\n",
    "    'max_size': 66\n",
    "}\n",
    "\n",
    "circle = shapes.Circle(specifications=specifications)(color=colors_lst.pop(), image_shape=canvas_size)\n",
    "draw.ellipse(xy=circle.parameterization,\n",
    "             fill=circle.color)"
   ]
  },
  {
   "cell_type": "code",
   "execution_count": 14,
   "id": "f7dacb6c",
   "metadata": {},
   "outputs": [],
   "source": [
    "#canvas.show()"
   ]
  },
  {
   "cell_type": "code",
   "execution_count": 15,
   "id": "1c9973aa",
   "metadata": {},
   "outputs": [],
   "source": [
    "\"\"\"\n",
    "Now lets make the square\n",
    "\"\"\"\n",
    "\n",
    "specifications = {\n",
    "    'min_size': 30,\n",
    "    'max_size': 82\n",
    "}\n",
    "# starting_point = (170, 100)\n",
    "fillcolor = (69, 69, 69)\n",
    "# draw.rectangle(xy=generate_bounding_box(starting_point, 75),\n",
    "#                fill=fillcolor)\n",
    "\n",
    "square = shapes.Square(specifications=specifications)(color=colors_lst.pop(),image_shape=canvas_size)\n",
    "draw.rectangle(xy=square.parameterization,\n",
    "               fill=square.color)"
   ]
  },
  {
   "cell_type": "markdown",
   "id": "98e677c1",
   "metadata": {},
   "source": [
    "## Making the images programmatically"
   ]
  },
  {
   "cell_type": "code",
   "execution_count": 16,
   "id": "61d2efa0",
   "metadata": {},
   "outputs": [],
   "source": [
    "color_picker = colors.ColorPicker(colors.KNOWN_COLORS, colors.default_hls_settings)"
   ]
  },
  {
   "cell_type": "code",
   "execution_count": 17,
   "id": "c4aa2ccb",
   "metadata": {},
   "outputs": [],
   "source": [
    "img_generator = image_maker.ImageMaker(image_shape=(224, 224),\n",
    "                                       color_picker=color_picker,\n",
    "                                       number_of_colors=4,\n",
    "                                       shapes = [\n",
    "                                           shapes.Triangle(),\n",
    "                                           shapes.Circle(specifications={\n",
    "                                               'min_size': 30,\n",
    "                                               'max_size': 82\n",
    "                                           }),\n",
    "                                           shapes.Square(specifications={\n",
    "                                               'min_size': 25,\n",
    "                                               'max_size': 66\n",
    "                                           })\n",
    "                                       ]\n",
    ")"
   ]
  },
  {
   "cell_type": "code",
   "execution_count": 18,
   "id": "e455f807",
   "metadata": {},
   "outputs": [],
   "source": [
    "image_instance = img_generator()"
   ]
  },
  {
   "cell_type": "code",
   "execution_count": 19,
   "id": "ca8c9510",
   "metadata": {},
   "outputs": [
    {
     "data": {
      "text/plain": [
       "{'image_shape': (224, 224),\n",
       " 'background_color': (206, 206, 136),\n",
       " 'shapes': {'Triangle': Triangle(parameterization=[(42, 99), (123, 120), (85, 186)], color=(171, 136, 206)),\n",
       "  'Square': Square(parameterization=[(10, 87), (70, 147)], color=(136, 136, 206))}}"
      ]
     },
     "execution_count": 19,
     "metadata": {},
     "output_type": "execute_result"
    }
   ],
   "source": [
    "image_instance"
   ]
  },
  {
   "cell_type": "code",
   "execution_count": 20,
   "id": "32b94896",
   "metadata": {},
   "outputs": [],
   "source": [
    "#image_maker.construct_image(image_instance)"
   ]
  },
  {
   "cell_type": "code",
   "execution_count": 21,
   "id": "53df7ad8",
   "metadata": {},
   "outputs": [],
   "source": [
    "image = image_maker.construct_image(image_instance)"
   ]
  },
  {
   "cell_type": "code",
   "execution_count": 22,
   "id": "6343edbf",
   "metadata": {},
   "outputs": [],
   "source": [
    "#image.show()"
   ]
  },
  {
   "cell_type": "code",
   "execution_count": 23,
   "id": "02768b3c",
   "metadata": {},
   "outputs": [],
   "source": [
    "image_as_array = np.array(image)"
   ]
  },
  {
   "cell_type": "code",
   "execution_count": 24,
   "id": "fbbd00b4",
   "metadata": {},
   "outputs": [
    {
     "data": {
      "text/plain": [
       "<matplotlib.image.AxesImage at 0x7fa90f795dd0>"
      ]
     },
     "execution_count": 24,
     "metadata": {},
     "output_type": "execute_result"
    },
    {
     "data": {
      "image/png": "[encoded data removed]",
      "text/plain": [
       "<Figure size 432x288 with 1 Axes>"
      ]
     },
     "metadata": {
      "needs_background": "light"
     },
     "output_type": "display_data"
    }
   ],
   "source": [
    "plt.imshow(image_as_array)"
   ]
  },
  {
   "cell_type": "code",
   "execution_count": 25,
   "id": "21c77395",
   "metadata": {},
   "outputs": [],
   "source": [
    "def really_slow_mask_maker(image_array, color):\n",
    "    \"\"\"ugh\"\"\"\n",
    "    rows, columns, channels = image_array.shape\n",
    "    mask = np.zeros((rows, columns), float)\n",
    "    for i in range(rows):\n",
    "        for j in range(columns):\n",
    "            r = image_array[i, j, 0]\n",
    "            g = image_array[i, j, 1]\n",
    "            b = image_array[i, j, 2]\n",
    "            if (r, g, b) == color:\n",
    "                mask[i, j] = 1\n",
    "    return mask\n",
    "\n",
    "def create_all_masks(image_array, image_instance):\n",
    "    \"\"\"creates a mask for all of the shapes present in the image\"\"\"\n",
    "    masks_dict = dict()\n",
    "    for shapetype, shape_instance in image_instance['shapes'].items():\n",
    "        color = shape_instance.color\n",
    "        mask = really_slow_mask_maker(image_array, color)\n",
    "        masks_dict[shapetype] = mask\n",
    "    return masks_dict"
   ]
  },
  {
   "cell_type": "code",
   "execution_count": 26,
   "id": "d03df516",
   "metadata": {},
   "outputs": [],
   "source": [
    "mask_dict = create_all_masks(image_as_array, image_instance)"
   ]
  },
  {
   "cell_type": "code",
   "execution_count": 27,
   "id": "1d9aa1dd",
   "metadata": {},
   "outputs": [],
   "source": [
    "def extract_bboxes(mask):\n",
    "    \"\"\"Compute bounding boxes from masks.\n",
    "    mask: [height, width, num_instances]. Mask pixels are either 1 or 0.\n",
    "\n",
    "    Returns: bbox array [num_instances, (y1, x1, y2, x2)].\n",
    "    \"\"\"\n",
    "    comp_mask = np.expand_dims(mask, axis=2) #expands on the last dim for this function\n",
    "    boxes = np.zeros([comp_mask.shape[-1], 4], dtype=np.int32)\n",
    "    for i in range(comp_mask.shape[-1]):\n",
    "        m = comp_mask[:, :, i]\n",
    "        # Bounding box.\n",
    "        horizontal_indicies = np.where(np.any(m, axis=0))[0]\n",
    "        vertical_indicies = np.where(np.any(m, axis=1))[0]\n",
    "        if horizontal_indicies.shape[0]:\n",
    "            x1, x2 = horizontal_indicies[[0, -1]]\n",
    "            y1, y2 = vertical_indicies[[0, -1]]\n",
    "            # x2 and y2 should not be part of the box. Increment by 1.\n",
    "            x2 += 1\n",
    "            y2 += 1\n",
    "        else:\n",
    "            # No mask for this instance. Might happen due to\n",
    "            # resizing or cropping. Set bbox to zeros\n",
    "            x1, x2, y1, y2 = 0, 0, 0, 0\n",
    "        boxes[i] = np.array([y1, x1, y2, x2])\n",
    "    return boxes.astype(np.int32)\n",
    "\n",
    "def get_bbox_dict(masks_dict: dict):\n",
    "    \"\"\"It was the best of times, it was the worst of times\"\"\"\n",
    "    bbox_dict = dict()\n",
    "    for shapetype, mask in masks_dict.items():\n",
    "        bbox_dict[shapetype] = extract_bboxes(mask)[0]\n",
    "    return bbox_dict\n",
    "\n",
    "def get_height_and_width(y1, x1, y2, x2):\n",
    "    \"\"\"why does this have to be so painful\"\"\"\n",
    "    height = abs(y2 - y1)\n",
    "    width = abs(x2 - x1)\n",
    "    return height, width\n",
    "\n",
    "def make_patch(bbox):\n",
    "    y1, x1, y2, x2 = bbox\n",
    "    height, width = get_height_and_width(y1, x1, y2, x2)\n",
    "    rect = patches.Rectangle((x1, y1),\n",
    "                             width=width,\n",
    "                             height=height,\n",
    "                             edgecolor='r',\n",
    "                             facecolor='none')\n",
    "    return rect\n",
    "def make_patches(bbox_dict):\n",
    "    \"\"\"makes all patches for all of the shapes\"\"\"\n",
    "    return [make_patch(bbox) for bbox in bbox_dict.values()]"
   ]
  },
  {
   "cell_type": "code",
   "execution_count": 28,
   "id": "7fc0d229",
   "metadata": {},
   "outputs": [],
   "source": [
    "def make_full_image_analysis(image_array, image_instance):\n",
    "    \"\"\"makes everything we need to make the full plot of all the masksk and ground truth boxes\"\"\"\n",
    "    mask_dict = create_all_masks(image_array, image_instance)\n",
    "    bbox_dict = get_bbox_dict(mask_dict)\n",
    "    number_of_axes = 2 + len(mask_dict)\n",
    "    bbox_patches = make_patches(bbox_dict)\n",
    "    fig, axs = plt.subplots(1, number_of_axes, dpi=250)\n",
    "    axs[0].imshow(image_array)\n",
    "    axs[0].axis('off')\n",
    "    axs[1].imshow(image_array)\n",
    "    axs[1].axis('off')\n",
    "    for patch in bbox_patches:\n",
    "        axs[1].add_patch(patch)\n",
    "    i = 2\n",
    "    for mask in mask_dict.values():\n",
    "        axes = axs[i]\n",
    "        axes.imshow(mask, cmap='gray')\n",
    "        axes.axis('off')\n",
    "        i+=1\n",
    "    plt.show(block=False)\n",
    "    plt.pause(2)\n",
    "    plt.close()"
   ]
  },
  {
   "cell_type": "code",
   "execution_count": 29,
   "id": "3a5e1863",
   "metadata": {},
   "outputs": [],
   "source": [
    "bbox_dict = get_bbox_dict(mask_dict)\n",
    "bbox_patches = make_patches(bbox_dict)"
   ]
  },
  {
   "cell_type": "code",
   "execution_count": 30,
   "id": "87110cb2",
   "metadata": {},
   "outputs": [
    {
     "data": {
      "text/plain": [
       "[<matplotlib.patches.Rectangle at 0x7fa90fb0f1d0>,\n",
       " <matplotlib.patches.Rectangle at 0x7fa90fb0f290>]"
      ]
     },
     "execution_count": 30,
     "metadata": {},
     "output_type": "execute_result"
    }
   ],
   "source": [
    "bbox_patches"
   ]
  },
  {
   "cell_type": "code",
   "execution_count": 31,
   "id": "e7071893",
   "metadata": {},
   "outputs": [
    {
     "data": {
      "image/png": "[encoded data removed]",
      "text/plain": [
       "<Figure size 432x288 with 1 Axes>"
      ]
     },
     "metadata": {
      "needs_background": "light"
     },
     "output_type": "display_data"
    }
   ],
   "source": [
    "fig, ax = plt.subplots()\n",
    "ax.imshow(image)\n",
    "ax.axis('off')\n",
    "for patch in bbox_patches:\n",
    "    ax.add_patch(patch)"
   ]
  },
  {
   "cell_type": "code",
   "execution_count": 32,
   "id": "4f4bf7ed",
   "metadata": {},
   "outputs": [
    {
     "data": {
      "text/plain": [
       "{'image_shape': (224, 224),\n",
       " 'background_color': (206, 206, 136),\n",
       " 'shapes': {'Triangle': Triangle(parameterization=[(42, 99), (123, 120), (85, 186)], color=(171, 136, 206)),\n",
       "  'Square': Square(parameterization=[(10, 87), (70, 147)], color=(136, 136, 206))}}"
      ]
     },
     "execution_count": 32,
     "metadata": {},
     "output_type": "execute_result"
    }
   ],
   "source": [
    "image_instance"
   ]
  },
  {
   "cell_type": "code",
   "execution_count": 33,
   "id": "99c50fcb",
   "metadata": {},
   "outputs": [
    {
     "data": {
      "image/png": "[encoded data removed]",
      "text/plain": [
       "<Figure size 1500x1000 with 4 Axes>"
      ]
     },
     "metadata": {
      "needs_background": "light"
     },
     "output_type": "display_data"
    }
   ],
   "source": [
    "make_full_image_analysis(image_as_array, image_instance)"
   ]
  },
  {
   "cell_type": "code",
   "execution_count": null,
   "id": "415664bf",
   "metadata": {},
   "outputs": [],
   "source": []
  }
 ],
 "metadata": {
  "kernelspec": {
   "display_name": "Python [conda env:basic-pytorch]",
   "language": "python",
   "name": "conda-env-basic-pytorch-py"
  },
  "language_info": {
   "codemirror_mode": {
    "name": "ipython",
    "version": 3
   },
   "file_extension": ".py",
   "mimetype": "text/x-python",
   "name": "python",
   "nbconvert_exporter": "python",
   "pygments_lexer": "ipython3",
   "version": "3.7.13"
  }
 },
 "nbformat": 4,
 "nbformat_minor": 5
}
