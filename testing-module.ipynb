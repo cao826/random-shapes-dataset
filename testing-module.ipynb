{
 "cells": [
  {
   "cell_type": "code",
   "execution_count": 1,
   "id": "eb54a796",
   "metadata": {},
   "outputs": [],
   "source": [
    "import PIL\n",
    "from PIL import Image, ImageDraw\n",
    "import colorsys\n",
    "import random\n",
    "\n",
    "%load_ext autoreload\n",
    "%autoreload 2\n",
    "from Modules import shapes"
   ]
  },
  {
   "cell_type": "code",
   "execution_count": 2,
   "id": "8e447b14",
   "metadata": {},
   "outputs": [
    {
     "data": {
      "text/plain": [
       "'\\nEach image will have at least one of and up to all of the following: \\n\\n1. A triangle\\n2. A circle\\n3. A square\\n'"
      ]
     },
     "execution_count": 2,
     "metadata": {},
     "output_type": "execute_result"
    }
   ],
   "source": [
    "#we will focus on drawing the images first. \n",
    "\n",
    "\"\"\"\n",
    "Each image will have at least one of and up to all of the following: \n",
    "\n",
    "1. A triangle\n",
    "2. A circle\n",
    "3. A square\n",
    "\"\"\""
   ]
  },
  {
   "cell_type": "code",
   "execution_count": 3,
   "id": "6f37495a",
   "metadata": {},
   "outputs": [],
   "source": [
    "\"\"\"\n",
    "This is how to generate an image with a background color\n",
    "\"\"\"\n",
    "canvas_size = (224, 224)\n",
    "canvas_color = (228, 150, 150)\n",
    "\n",
    "canvas = Image.new(mode='RGB',\n",
    "                   size=canvas_size,\n",
    "                   color=canvas_color,\n",
    "                  )"
   ]
  },
  {
   "cell_type": "code",
   "execution_count": 4,
   "id": "b6d0bba2",
   "metadata": {},
   "outputs": [],
   "source": [
    "#canvas.show()"
   ]
  },
  {
   "cell_type": "code",
   "execution_count": 5,
   "id": "c73c2cc3",
   "metadata": {},
   "outputs": [],
   "source": [
    "draw = ImageDraw.Draw(canvas)"
   ]
  },
  {
   "cell_type": "code",
   "execution_count": 6,
   "id": "6a590b8a",
   "metadata": {},
   "outputs": [],
   "source": [
    "\"\"\"\n",
    "Here we will draw a triangle\n",
    "\"\"\"\n",
    "# coordinates = [\n",
    "#     (12, 72),\n",
    "#     (40, 37),\n",
    "#     (100, 96)\n",
    "# ]\n",
    "# color = (132, 25, 68)\n",
    "# draw.polygon(xy=coordinates,\n",
    "#              fill=color)\n",
    "\n",
    "triangle = shapes.Triangle()(image_shape=canvas_size, color=(132, 25, 68))\n",
    "draw.polygon(xy=triangle.parameterization,\n",
    "             fill=triangle.color)"
   ]
  },
  {
   "cell_type": "code",
   "execution_count": 7,
   "id": "0a6237aa",
   "metadata": {},
   "outputs": [],
   "source": [
    "#canvas.show()"
   ]
  },
  {
   "cell_type": "code",
   "execution_count": 8,
   "id": "6b7ff917",
   "metadata": {},
   "outputs": [],
   "source": [
    "\"\"\"\n",
    "Here we draw a circle\n",
    "\n",
    "draw.ellipse()\n",
    "\n",
    "PARAMETERS:\n",
    "xy – Two points to define the bounding box. Sequence of either [(x0, y0), (x1, y1)] or [x0, y0, x1, y1], where x1 >= x0 and y1 >= y0.\n",
    "\n",
    "outline – Color to use for the outline.\n",
    "\n",
    "fill – Color to use for the fill.\n",
    "\n",
    "width –\n",
    "\n",
    "The line width, in pixels.\n",
    "\"\"\"\n",
    "\n",
    "\n",
    "# def generate_bounding_box(starting_point, size):\n",
    "#     \"\"\"Given the x0, y0, generate the x1, y1 where x1 > x0 and y1 > y0\"\"\"\n",
    "#     other_point = tuple(point + size for point in starting_point)\n",
    "#     parameterization = [starting_point, other_point]\n",
    "#     return parameterization\n",
    "\n",
    "# starting_point = (200, 200)\n",
    "# color = (177, 200, 37)\n",
    "# draw.ellipse(xy=generate_bounding_box(starting_point, 50),\n",
    "#             fill=color)\n",
    "\n",
    "specifications = {\n",
    "    'min_size': 25,\n",
    "    'max_size': 66\n",
    "}\n",
    "\n",
    "circle = shapes.Circle(specifications=specifications)(color=(177, 200, 37), image_shape=canvas_size)\n",
    "draw.ellipse(xy=circle.parameterization,\n",
    "             fill=circle.color)"
   ]
  },
  {
   "cell_type": "code",
   "execution_count": 9,
   "id": "f7dacb6c",
   "metadata": {},
   "outputs": [],
   "source": [
    "#canvas.show()"
   ]
  },
  {
   "cell_type": "code",
   "execution_count": 10,
   "id": "1c9973aa",
   "metadata": {},
   "outputs": [],
   "source": [
    "\"\"\"\n",
    "Now lets make the square\n",
    "\"\"\"\n",
    "\n",
    "specifications = {\n",
    "    'min_size': 30,\n",
    "    'max_size': 82\n",
    "}\n",
    "# starting_point = (170, 100)\n",
    "fillcolor = (69, 69, 69)\n",
    "# draw.rectangle(xy=generate_bounding_box(starting_point, 75),\n",
    "#                fill=fillcolor)\n",
    "\n",
    "square = shapes.Square(specifications=specifications)(color=fillcolor,image_shape=canvas_size)\n",
    "draw.rectangle(xy=square.parameterization,\n",
    "               fill=square.color)"
   ]
  },
  {
   "cell_type": "code",
   "execution_count": 11,
   "id": "5b570d6a",
   "metadata": {},
   "outputs": [],
   "source": [
    "canvas.show()"
   ]
  },
  {
   "cell_type": "code",
   "execution_count": null,
   "id": "7b74fd5b",
   "metadata": {},
   "outputs": [],
   "source": []
  }
 ],
 "metadata": {
  "kernelspec": {
   "display_name": "Python [conda env:basic-pytorch]",
   "language": "python",
   "name": "conda-env-basic-pytorch-py"
  },
  "language_info": {
   "codemirror_mode": {
    "name": "ipython",
    "version": 3
   },
   "file_extension": ".py",
   "mimetype": "text/x-python",
   "name": "python",
   "nbconvert_exporter": "python",
   "pygments_lexer": "ipython3",
   "version": "3.7.13"
  }
 },
 "nbformat": 4,
 "nbformat_minor": 5
}
