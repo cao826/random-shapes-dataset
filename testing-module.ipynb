{
 "cells": [
  {
   "cell_type": "code",
   "execution_count": 79,
   "id": "eb54a796",
   "metadata": {},
   "outputs": [
    {
     "name": "stdout",
     "output_type": "stream",
     "text": [
      "The autoreload extension is already loaded. To reload it, use:\n",
      "  %reload_ext autoreload\n"
     ]
    }
   ],
   "source": [
    "import PIL\n",
    "from PIL import Image, ImageDraw\n",
    "import colorsys\n",
    "import random\n",
    "import math\n",
    "import numpy as np\n",
    "import matplotlib.pyplot as plt\n",
    "\n",
    "%load_ext autoreload\n",
    "%autoreload 2\n",
    "from Modules import shapes\n",
    "from Modules import colors\n",
    "from Modules import image_maker"
   ]
  },
  {
   "cell_type": "code",
   "execution_count": 28,
   "id": "8e447b14",
   "metadata": {},
   "outputs": [
    {
     "data": {
      "text/plain": [
       "'\\nEach image will have at least one of and up to all of the following: \\n\\n1. A triangle\\n2. A circle\\n3. A square\\n'"
      ]
     },
     "execution_count": 28,
     "metadata": {},
     "output_type": "execute_result"
    }
   ],
   "source": [
    "#we will focus on drawing the images first. \n",
    "\n",
    "\"\"\"\n",
    "Each image will have at least one of and up to all of the following: \n",
    "\n",
    "1. A triangle\n",
    "2. A circle\n",
    "3. A square\n",
    "\"\"\""
   ]
  },
  {
   "cell_type": "code",
   "execution_count": 38,
   "id": "1537b314",
   "metadata": {},
   "outputs": [],
   "source": [
    "color_picker = colors.ColorPicker(colors.KNOWN_COLORS, colors.default_hls_settings)"
   ]
  },
  {
   "cell_type": "code",
   "execution_count": 65,
   "id": "b83c53e6",
   "metadata": {},
   "outputs": [],
   "source": [
    "colors_lst = color_picker(4)"
   ]
  },
  {
   "cell_type": "code",
   "execution_count": 66,
   "id": "4804dac9",
   "metadata": {},
   "outputs": [],
   "source": [
    "#print(colors)"
   ]
  },
  {
   "cell_type": "code",
   "execution_count": 67,
   "id": "1a8d1d18",
   "metadata": {},
   "outputs": [],
   "source": [
    "#colors.pop()"
   ]
  },
  {
   "cell_type": "code",
   "execution_count": 68,
   "id": "d6b52a36",
   "metadata": {},
   "outputs": [],
   "source": [
    "#print(colors)"
   ]
  },
  {
   "cell_type": "code",
   "execution_count": 69,
   "id": "6f37495a",
   "metadata": {},
   "outputs": [],
   "source": [
    "\"\"\"\n",
    "This is how to generate an image with a background color\n",
    "\"\"\"\n",
    "canvas_size = (224, 224)\n",
    "canvas_color = (228, 150, 150)\n",
    "\n",
    "canvas = Image.new(mode='RGB',\n",
    "                   size=canvas_size,\n",
    "                   color=colors_lst.pop(),\n",
    "                  )"
   ]
  },
  {
   "cell_type": "code",
   "execution_count": 70,
   "id": "b6d0bba2",
   "metadata": {},
   "outputs": [],
   "source": [
    "#canvas.show()"
   ]
  },
  {
   "cell_type": "code",
   "execution_count": 71,
   "id": "c73c2cc3",
   "metadata": {},
   "outputs": [],
   "source": [
    "draw = ImageDraw.Draw(canvas)"
   ]
  },
  {
   "cell_type": "code",
   "execution_count": 72,
   "id": "6a590b8a",
   "metadata": {},
   "outputs": [],
   "source": [
    "\"\"\"\n",
    "Here we will draw a triangle\n",
    "\"\"\"\n",
    "# coordinates = [\n",
    "#     (12, 72),\n",
    "#     (40, 37),\n",
    "#     (100, 96)\n",
    "# ]\n",
    "# color = (132, 25, 68)\n",
    "# draw.polygon(xy=coordinates,\n",
    "#              fill=color)\n",
    "\n",
    "triangle = shapes.Triangle()(image_shape=canvas_size, color=colors_lst.pop())\n",
    "draw.polygon(xy=triangle.parameterization,\n",
    "             fill=triangle.color)"
   ]
  },
  {
   "cell_type": "code",
   "execution_count": 73,
   "id": "0a6237aa",
   "metadata": {},
   "outputs": [],
   "source": [
    "#canvas.show()"
   ]
  },
  {
   "cell_type": "code",
   "execution_count": 74,
   "id": "6b7ff917",
   "metadata": {},
   "outputs": [],
   "source": [
    "\"\"\"\n",
    "Here we draw a circle\n",
    "\n",
    "draw.ellipse()\n",
    "\n",
    "PARAMETERS:\n",
    "xy – Two points to define the bounding box. Sequence of either [(x0, y0), (x1, y1)] or [x0, y0, x1, y1], where x1 >= x0 and y1 >= y0.\n",
    "\n",
    "outline – Color to use for the outline.\n",
    "\n",
    "fill – Color to use for the fill.\n",
    "\n",
    "width –\n",
    "\n",
    "The line width, in pixels.\n",
    "\"\"\"\n",
    "\n",
    "\n",
    "# def generate_bounding_box(starting_point, size):\n",
    "#     \"\"\"Given the x0, y0, generate the x1, y1 where x1 > x0 and y1 > y0\"\"\"\n",
    "#     other_point = tuple(point + size for point in starting_point)\n",
    "#     parameterization = [starting_point, other_point]\n",
    "#     return parameterization\n",
    "\n",
    "# starting_point = (200, 200)\n",
    "# color = (177, 200, 37)\n",
    "# draw.ellipse(xy=generate_bounding_box(starting_point, 50),\n",
    "#             fill=color)\n",
    "\n",
    "specifications = {\n",
    "    'min_size': 25,\n",
    "    'max_size': 66\n",
    "}\n",
    "\n",
    "circle = shapes.Circle(specifications=specifications)(color=colors_lst.pop(), image_shape=canvas_size)\n",
    "draw.ellipse(xy=circle.parameterization,\n",
    "             fill=circle.color)"
   ]
  },
  {
   "cell_type": "code",
   "execution_count": 75,
   "id": "f7dacb6c",
   "metadata": {},
   "outputs": [],
   "source": [
    "#canvas.show()"
   ]
  },
  {
   "cell_type": "code",
   "execution_count": 76,
   "id": "1c9973aa",
   "metadata": {},
   "outputs": [],
   "source": [
    "\"\"\"\n",
    "Now lets make the square\n",
    "\"\"\"\n",
    "\n",
    "specifications = {\n",
    "    'min_size': 30,\n",
    "    'max_size': 82\n",
    "}\n",
    "# starting_point = (170, 100)\n",
    "fillcolor = (69, 69, 69)\n",
    "# draw.rectangle(xy=generate_bounding_box(starting_point, 75),\n",
    "#                fill=fillcolor)\n",
    "\n",
    "square = shapes.Square(specifications=specifications)(color=colors_lst.pop(),image_shape=canvas_size)\n",
    "draw.rectangle(xy=square.parameterization,\n",
    "               fill=square.color)"
   ]
  },
  {
   "cell_type": "markdown",
   "id": "98e677c1",
   "metadata": {},
   "source": [
    "## Making the images programmatically"
   ]
  },
  {
   "cell_type": "code",
   "execution_count": 80,
   "id": "61d2efa0",
   "metadata": {},
   "outputs": [],
   "source": [
    "color_picker = colors.ColorPicker(colors.KNOWN_COLORS, colors.default_hls_settings)"
   ]
  },
  {
   "cell_type": "code",
   "execution_count": 82,
   "id": "c4aa2ccb",
   "metadata": {},
   "outputs": [],
   "source": [
    "img_generator = image_maker.ImageMaker(image_shape=(224, 224),\n",
    "                                       color_picker=color_picker,\n",
    "                                       number_of_colors=4,\n",
    "                                       shapes = [\n",
    "                                           shapes.Triangle(),\n",
    "                                           shapes.Circle(specifications={\n",
    "                                               'min_size': 30,\n",
    "                                               'max_size': 82\n",
    "                                           }),\n",
    "                                           shapes.Square(specifications={\n",
    "                                               'min_size': 25,\n",
    "                                               'max_size': 66\n",
    "                                           })\n",
    "                                       ]\n",
    ")"
   ]
  },
  {
   "cell_type": "code",
   "execution_count": 93,
   "id": "e455f807",
   "metadata": {},
   "outputs": [],
   "source": [
    "image_instance = img_generator()"
   ]
  },
  {
   "cell_type": "code",
   "execution_count": 94,
   "id": "ca8c9510",
   "metadata": {},
   "outputs": [
    {
     "data": {
      "text/plain": [
       "{'image_shape': (224, 224),\n",
       " 'background_color': (136, 136, 206),\n",
       " 'shapes': {'Circle': Circle(parameterization=[(47, 108), (101, 162)], color=(136, 206, 136)),\n",
       "  'Triangle': Triangle(parameterization=[(81, 130), (5, 172), (144, 198)], color=(136, 171, 206)),\n",
       "  'Square': Square(parameterization=[(113, 118), (154, 159)], color=(206, 136, 136))}}"
      ]
     },
     "execution_count": 94,
     "metadata": {},
     "output_type": "execute_result"
    }
   ],
   "source": [
    "image_instance"
   ]
  },
  {
   "cell_type": "code",
   "execution_count": 95,
   "id": "32b94896",
   "metadata": {},
   "outputs": [
    {
     "data": {
      "image/png": "[encoded data removed]",
      "text/plain": [
       "<PIL.Image.Image image mode=RGB size=224x224 at 0x7FC2D1F4DFD0>"
      ]
     },
     "execution_count": 95,
     "metadata": {},
     "output_type": "execute_result"
    }
   ],
   "source": [
    "image_maker.construct_image(image_instance)"
   ]
  },
  {
   "cell_type": "code",
   "execution_count": 116,
   "id": "d05e3d99",
   "metadata": {},
   "outputs": [
    {
     "data": {
      "image/png": "[encoded data removed]",
      "text/plain": [
       "<Figure size 1500x1000 with 6 Axes>"
      ]
     },
     "metadata": {
      "needs_background": "light"
     },
     "output_type": "display_data"
    }
   ],
   "source": [
    "fig, axs = plt.subplots(2,3, dpi=250)\n",
    "for i in range(2):\n",
    "    for j in range(3):\n",
    "        ax = axs[i,j]\n",
    "        ax.axis('off')\n",
    "        ax.imshow(image_maker.construct_image(img_generator()))"
   ]
  },
  {
   "cell_type": "code",
   "execution_count": null,
   "id": "02768b3c",
   "metadata": {},
   "outputs": [],
   "source": []
  }
 ],
 "metadata": {
  "kernelspec": {
   "display_name": "Python [conda env:basic-pytorch]",
   "language": "python",
   "name": "conda-env-basic-pytorch-py"
  },
  "language_info": {
   "codemirror_mode": {
    "name": "ipython",
    "version": 3
   },
   "file_extension": ".py",
   "mimetype": "text/x-python",
   "name": "python",
   "nbconvert_exporter": "python",
   "pygments_lexer": "ipython3",
   "version": "3.7.13"
  }
 },
 "nbformat": 4,
 "nbformat_minor": 5
}
