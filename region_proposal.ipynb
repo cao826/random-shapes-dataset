{
 "cells": [
  {
   "cell_type": "code",
   "execution_count": 1,
   "id": "4715cf53-0648-48f2-9922-9ec692d28b12",
   "metadata": {},
   "outputs": [],
   "source": [
    "import sys\n",
    "import torch\n",
    "import torchvision\n",
    "import matplotlib.pyplot as plt\n",
    "from torchvision.models.detection.anchor_utils import AnchorGenerator\n",
    "from torchvision.models.detection.image_list import ImageList\n",
    "from torchvision.models.detection import rpn\n",
    "from torchvision import transforms as T\n",
    "from torchvision import datasets\n",
    "from Modules import image_maker, shapes, colors"
   ]
  },
  {
   "cell_type": "markdown",
   "id": "a0b63377-bf77-4526-9c38-a99e79e26a65",
   "metadata": {},
   "source": [
    "## Generating images"
   ]
  },
  {
   "cell_type": "code",
   "execution_count": 2,
   "id": "3d42b39f-9d8b-43dd-a90f-e7c83560e94b",
   "metadata": {},
   "outputs": [],
   "source": [
    "\"\"\"\n",
    "Let's make an example 512 x 512 image\n",
    "\"\"\"\n",
    "canvas_size = (512, 512)\n",
    "color_picker = colors.ColorPicker(\n",
    "    colors.KNOWN_COLORS,\n",
    "    colors.default_hls_settings\n",
    ")\n",
    "\n",
    "img_generator = image_maker.ImageMaker(image_shape=canvas_size,\n",
    "                                       color_picker=color_picker,\n",
    "                                       number_of_colors=4,\n",
    "                                       shapes = [\n",
    "                                           shapes.Triangle(),\n",
    "                                           shapes.Circle(\n",
    "                                               specifications={\n",
    "                                                   'min_size': 80,\n",
    "                                                   'max_size': 220\n",
    "                                               }),\n",
    "                                           shapes.Square(\n",
    "                                               specifications={\n",
    "                                                   'min_size': 35,\n",
    "                                                   'max_size': 250\n",
    "                                               })\n",
    "                                       ],\n",
    "                                      )\n",
    "\n",
    "def make_image():\n",
    "    image_meta = img_generator()\n",
    "    image = image_maker.construct_image(image_meta)\n",
    "    return image, image_meta"
   ]
  },
  {
   "cell_type": "code",
   "execution_count": 3,
   "id": "c4e686a4-aa91-4086-a545-b9250d6e66a2",
   "metadata": {},
   "outputs": [],
   "source": [
    "example_image, example_image_meta = make_image()"
   ]
  },
  {
   "cell_type": "code",
   "execution_count": 4,
   "id": "2ceb839b-4fc9-4071-8ddb-7d1006933aa4",
   "metadata": {},
   "outputs": [
    {
     "data": {
      "text/plain": [
       "<matplotlib.image.AxesImage at 0x7fbf52162b50>"
      ]
     },
     "execution_count": 4,
     "metadata": {},
     "output_type": "execute_result"
    },
    {
     "data": {
      "image/png": "[encoded data removed]",
      "text/plain": [
       "<Figure size 432x432 with 1 Axes>"
      ]
     },
     "metadata": {
      "needs_background": "light"
     },
     "output_type": "display_data"
    }
   ],
   "source": [
    "fig, ax = plt.subplots(figsize=(6,6))\n",
    "ax.axis('off')\n",
    "ax.imshow(example_image)"
   ]
  },
  {
   "cell_type": "markdown",
   "id": "89ff2792-bd9b-4e81-a4ea-b77f9ddc69a7",
   "metadata": {},
   "source": [
    "## Instantiating a pretrained model to create a feature map"
   ]
  },
  {
   "cell_type": "code",
   "execution_count": 5,
   "id": "01637d1c-69e4-41e8-9001-b7db4f6003fb",
   "metadata": {},
   "outputs": [
    {
     "name": "stderr",
     "output_type": "stream",
     "text": [
      "Using cache found in /Users/carlosolivares/.cache/torch/hub/pytorch_vision_v0.10.1\n"
     ]
    },
    {
     "name": "stdout",
     "output_type": "stream",
     "text": [
      "vgg16 has 3 layers\n"
     ]
    }
   ],
   "source": [
    "model_repo = 'pytorch/vision:v0.10.1'\n",
    "\n",
    "vgg16 = torch.hub.load(repo_or_dir=model_repo,\n",
    "                       model='vgg16')\n",
    "layer_count = 0\n",
    "for layer in vgg16.children():\n",
    "    layer_count += 1\n",
    "print(f\"vgg16 has {layer_count} layers\")"
   ]
  },
  {
   "cell_type": "markdown",
   "id": "874e3759-5900-4253-90ad-e59d308dd645",
   "metadata": {},
   "source": [
    "Clearly the model has more than three layers. What actually happens is that they group the related steps together: "
   ]
  },
  {
   "cell_type": "code",
   "execution_count": 7,
   "id": "83d36f80-1ed4-48bc-ad2f-845b40bda178",
   "metadata": {},
   "outputs": [
    {
     "name": "stdout",
     "output_type": "stream",
     "text": [
      "COMPLETE VGG16 MODEL\n",
      "VGG(\n",
      "  (features): Sequential(\n",
      "    (0): Conv2d(3, 64, kernel_size=(3, 3), stride=(1, 1), padding=(1, 1))\n",
      "    (1): ReLU(inplace=True)\n",
      "    (2): Conv2d(64, 64, kernel_size=(3, 3), stride=(1, 1), padding=(1, 1))\n",
      "    (3): ReLU(inplace=True)\n",
      "    (4): MaxPool2d(kernel_size=2, stride=2, padding=0, dilation=1, ceil_mode=False)\n",
      "    (5): Conv2d(64, 128, kernel_size=(3, 3), stride=(1, 1), padding=(1, 1))\n",
      "    (6): ReLU(inplace=True)\n",
      "    (7): Conv2d(128, 128, kernel_size=(3, 3), stride=(1, 1), padding=(1, 1))\n",
      "    (8): ReLU(inplace=True)\n",
      "    (9): MaxPool2d(kernel_size=2, stride=2, padding=0, dilation=1, ceil_mode=False)\n",
      "    (10): Conv2d(128, 256, kernel_size=(3, 3), stride=(1, 1), padding=(1, 1))\n",
      "    (11): ReLU(inplace=True)\n",
      "    (12): Conv2d(256, 256, kernel_size=(3, 3), stride=(1, 1), padding=(1, 1))\n",
      "    (13): ReLU(inplace=True)\n",
      "    (14): Conv2d(256, 256, kernel_size=(3, 3), stride=(1, 1), padding=(1, 1))\n",
      "    (15): ReLU(inplace=True)\n",
      "    (16): MaxPool2d(kernel_size=2, stride=2, padding=0, dilation=1, ceil_mode=False)\n",
      "    (17): Conv2d(256, 512, kernel_size=(3, 3), stride=(1, 1), padding=(1, 1))\n",
      "    (18): ReLU(inplace=True)\n",
      "    (19): Conv2d(512, 512, kernel_size=(3, 3), stride=(1, 1), padding=(1, 1))\n",
      "    (20): ReLU(inplace=True)\n",
      "    (21): Conv2d(512, 512, kernel_size=(3, 3), stride=(1, 1), padding=(1, 1))\n",
      "    (22): ReLU(inplace=True)\n",
      "    (23): MaxPool2d(kernel_size=2, stride=2, padding=0, dilation=1, ceil_mode=False)\n",
      "    (24): Conv2d(512, 512, kernel_size=(3, 3), stride=(1, 1), padding=(1, 1))\n",
      "    (25): ReLU(inplace=True)\n",
      "    (26): Conv2d(512, 512, kernel_size=(3, 3), stride=(1, 1), padding=(1, 1))\n",
      "    (27): ReLU(inplace=True)\n",
      "    (28): Conv2d(512, 512, kernel_size=(3, 3), stride=(1, 1), padding=(1, 1))\n",
      "    (29): ReLU(inplace=True)\n",
      "    (30): MaxPool2d(kernel_size=2, stride=2, padding=0, dilation=1, ceil_mode=False)\n",
      "  )\n",
      "  (avgpool): AdaptiveAvgPool2d(output_size=(7, 7))\n",
      "  (classifier): Sequential(\n",
      "    (0): Linear(in_features=25088, out_features=4096, bias=True)\n",
      "    (1): ReLU(inplace=True)\n",
      "    (2): Dropout(p=0.5, inplace=False)\n",
      "    (3): Linear(in_features=4096, out_features=4096, bias=True)\n",
      "    (4): ReLU(inplace=True)\n",
      "    (5): Dropout(p=0.5, inplace=False)\n",
      "    (6): Linear(in_features=4096, out_features=1000, bias=True)\n",
      "  )\n",
      ")\n",
      "FEATURE MAP MAKER\n"
     ]
    },
    {
     "ename": "NameError",
     "evalue": "name 'vgg16_featuremapper' is not defined",
     "output_type": "error",
     "traceback": [
      "\u001b[0;31m---------------------------------------------------------------------------\u001b[0m",
      "\u001b[0;31mNameError\u001b[0m                                 Traceback (most recent call last)",
      "\u001b[0;32m/var/folders/rx/tdr18_yd3m16f7mq07kfl1dr0000gn/T/ipykernel_9028/1776053225.py\u001b[0m in \u001b[0;36m<module>\u001b[0;34m\u001b[0m\n\u001b[1;32m      7\u001b[0m \u001b[0mprint\u001b[0m\u001b[0;34m(\u001b[0m\u001b[0mvgg16\u001b[0m\u001b[0;34m)\u001b[0m\u001b[0;34m\u001b[0m\u001b[0;34m\u001b[0m\u001b[0m\n\u001b[1;32m      8\u001b[0m \u001b[0mprint\u001b[0m\u001b[0;34m(\u001b[0m\u001b[0;34m\"FEATURE MAP MAKER\"\u001b[0m\u001b[0;34m)\u001b[0m\u001b[0;34m\u001b[0m\u001b[0;34m\u001b[0m\u001b[0m\n\u001b[0;32m----> 9\u001b[0;31m \u001b[0mprint\u001b[0m\u001b[0;34m(\u001b[0m\u001b[0mvgg16_featuremapper\u001b[0m\u001b[0;34m(\u001b[0m\u001b[0;34m)\u001b[0m\u001b[0;34m)\u001b[0m\u001b[0;34m\u001b[0m\u001b[0;34m\u001b[0m\u001b[0m\n\u001b[0m",
      "\u001b[0;31mNameError\u001b[0m: name 'vgg16_featuremapper' is not defined"
     ]
    }
   ],
   "source": [
    "\"\"\"\n",
    "create the vgg16 based feature map creator\n",
    "\"\"\"\n",
    "\n",
    "\n",
    "print(\"COMPLETE VGG16 MODEL\")\n",
    "print(vgg16)\n",
    "print(\"FEATURE MAP MAKER\")\n",
    "print(vgg16_featuremapper())"
   ]
  },
  {
   "cell_type": "markdown",
   "id": "5888a07e-fc25-4a23-91f2-e1a5fe4a9101",
   "metadata": {},
   "source": [
    "## making a feature map to pass to the backbone"
   ]
  },
  {
   "cell_type": "code",
   "execution_count": 8,
   "id": "84530555-a704-41f2-bbe6-318f654eab53",
   "metadata": {},
   "outputs": [],
   "source": [
    "normalize = T.Normalize(mean=[0.485, 0.456, 0.406],\n",
    "                                 std=[0.229, 0.224, 0.225])\n",
    "\n",
    "standard_transform = T.Compose(\n",
    "    [\n",
    "        T.ToTensor(),\n",
    "        normalize,\n",
    "    ]\n",
    ")"
   ]
  },
  {
   "cell_type": "code",
   "execution_count": 9,
   "id": "605c3e28-bd85-4b82-9864-04f230ec6d2a",
   "metadata": {},
   "outputs": [
    {
     "ename": "NameError",
     "evalue": "name 'vgg16_featuremapper' is not defined",
     "output_type": "error",
     "traceback": [
      "\u001b[0;31m---------------------------------------------------------------------------\u001b[0m",
      "\u001b[0;31mNameError\u001b[0m                                 Traceback (most recent call last)",
      "\u001b[0;32m/var/folders/rx/tdr18_yd3m16f7mq07kfl1dr0000gn/T/ipykernel_9028/2015122155.py\u001b[0m in \u001b[0;36m<module>\u001b[0;34m\u001b[0m\n\u001b[0;32m----> 1\u001b[0;31m \u001b[0mfeature_mapper\u001b[0m \u001b[0;34m=\u001b[0m \u001b[0mvgg16_featuremapper\u001b[0m\u001b[0;34m(\u001b[0m\u001b[0;34m)\u001b[0m\u001b[0;34m\u001b[0m\u001b[0;34m\u001b[0m\u001b[0m\n\u001b[0m\u001b[1;32m      2\u001b[0m \u001b[0mimage_for_input\u001b[0m \u001b[0;34m=\u001b[0m \u001b[0mstandard_transform\u001b[0m\u001b[0;34m(\u001b[0m\u001b[0mexample_image\u001b[0m\u001b[0;34m)\u001b[0m\u001b[0;34m\u001b[0m\u001b[0;34m\u001b[0m\u001b[0m\n\u001b[1;32m      3\u001b[0m \u001b[0mfeature_map\u001b[0m \u001b[0;34m=\u001b[0m \u001b[0mfeature_mapper\u001b[0m\u001b[0;34m(\u001b[0m\u001b[0mimage_for_input\u001b[0m\u001b[0;34m)\u001b[0m\u001b[0;34m\u001b[0m\u001b[0;34m\u001b[0m\u001b[0m\n",
      "\u001b[0;31mNameError\u001b[0m: name 'vgg16_featuremapper' is not defined"
     ]
    }
   ],
   "source": [
    "feature_mapper = vgg16_featuremapper()\n",
    "image_for_input = standard_transform(example_image)\n",
    "feature_map = feature_mapper(image_for_input)"
   ]
  },
  {
   "cell_type": "code",
   "execution_count": 10,
   "id": "54357727",
   "metadata": {},
   "outputs": [
    {
     "ename": "NameError",
     "evalue": "name 'feature_map' is not defined",
     "output_type": "error",
     "traceback": [
      "\u001b[0;31m---------------------------------------------------------------------------\u001b[0m",
      "\u001b[0;31mNameError\u001b[0m                                 Traceback (most recent call last)",
      "\u001b[0;32m/var/folders/rx/tdr18_yd3m16f7mq07kfl1dr0000gn/T/ipykernel_9028/1830482043.py\u001b[0m in \u001b[0;36m<module>\u001b[0;34m\u001b[0m\n\u001b[0;32m----> 1\u001b[0;31m \u001b[0mprint\u001b[0m\u001b[0;34m(\u001b[0m\u001b[0;34mf\"The feature map has shape {feature_map.shape}\"\u001b[0m\u001b[0;34m)\u001b[0m\u001b[0;34m\u001b[0m\u001b[0;34m\u001b[0m\u001b[0m\n\u001b[0m",
      "\u001b[0;31mNameError\u001b[0m: name 'feature_map' is not defined"
     ]
    }
   ],
   "source": [
    "print(f\"The feature map has shape {feature_map.shape}\")"
   ]
  },
  {
   "cell_type": "code",
   "execution_count": 11,
   "id": "9ff122fd",
   "metadata": {},
   "outputs": [
    {
     "ename": "NameError",
     "evalue": "name 'image_for_input' is not defined",
     "output_type": "error",
     "traceback": [
      "\u001b[0;31m---------------------------------------------------------------------------\u001b[0m",
      "\u001b[0;31mNameError\u001b[0m                                 Traceback (most recent call last)",
      "\u001b[0;32m/var/folders/rx/tdr18_yd3m16f7mq07kfl1dr0000gn/T/ipykernel_9028/936836571.py\u001b[0m in \u001b[0;36m<module>\u001b[0;34m\u001b[0m\n\u001b[1;32m      3\u001b[0m \"\"\"\n\u001b[1;32m      4\u001b[0m \u001b[0;34m\u001b[0m\u001b[0m\n\u001b[0;32m----> 5\u001b[0;31m \u001b[0mimage_list\u001b[0m \u001b[0;34m=\u001b[0m \u001b[0mImageList\u001b[0m\u001b[0;34m(\u001b[0m\u001b[0mtensors\u001b[0m\u001b[0;34m=\u001b[0m\u001b[0mimage_for_input\u001b[0m\u001b[0;34m,\u001b[0m \u001b[0mimage_sizes\u001b[0m\u001b[0;34m=\u001b[0m\u001b[0;34m[\u001b[0m\u001b[0;34m(\u001b[0m\u001b[0;36m512\u001b[0m\u001b[0;34m,\u001b[0m\u001b[0;36m512\u001b[0m\u001b[0;34m)\u001b[0m\u001b[0;34m]\u001b[0m\u001b[0;34m)\u001b[0m\u001b[0;34m\u001b[0m\u001b[0;34m\u001b[0m\u001b[0m\n\u001b[0m",
      "\u001b[0;31mNameError\u001b[0m: name 'image_for_input' is not defined"
     ]
    }
   ],
   "source": [
    "\"\"\"\n",
    "Putting all of this in an ImageList \n",
    "\"\"\"\n",
    "\n",
    "image_list = ImageList(tensors=image_for_input, image_sizes=[(512,512)])"
   ]
  },
  {
   "cell_type": "code",
   "execution_count": 12,
   "id": "d74c8eef-a102-4749-a51d-1504253a74a7",
   "metadata": {},
   "outputs": [],
   "source": [
    "anchor_generator = AnchorGenerator()"
   ]
  },
  {
   "cell_type": "code",
   "execution_count": 13,
   "id": "a447cbf1",
   "metadata": {},
   "outputs": [
    {
     "data": {
      "text/plain": [
       "((128, 256, 512),)"
      ]
     },
     "execution_count": 13,
     "metadata": {},
     "output_type": "execute_result"
    }
   ],
   "source": [
    "anchor_generator.sizes"
   ]
  },
  {
   "cell_type": "code",
   "execution_count": 14,
   "id": "0eb06b28-6ab9-42e3-8a1b-6945c74fccaf",
   "metadata": {},
   "outputs": [
    {
     "ename": "NameError",
     "evalue": "name 'image_list' is not defined",
     "output_type": "error",
     "traceback": [
      "\u001b[0;31m---------------------------------------------------------------------------\u001b[0m",
      "\u001b[0;31mNameError\u001b[0m                                 Traceback (most recent call last)",
      "\u001b[0;32m/var/folders/rx/tdr18_yd3m16f7mq07kfl1dr0000gn/T/ipykernel_9028/4220649188.py\u001b[0m in \u001b[0;36m<module>\u001b[0;34m\u001b[0m\n\u001b[0;32m----> 1\u001b[0;31m \u001b[0mwhat_is_this\u001b[0m \u001b[0;34m=\u001b[0m \u001b[0manchor_generator\u001b[0m\u001b[0;34m(\u001b[0m\u001b[0mimage_list\u001b[0m\u001b[0;34m,\u001b[0m \u001b[0;34m[\u001b[0m\u001b[0mfeature_map\u001b[0m\u001b[0;34m]\u001b[0m\u001b[0;34m)\u001b[0m\u001b[0;34m\u001b[0m\u001b[0;34m\u001b[0m\u001b[0m\n\u001b[0m",
      "\u001b[0;31mNameError\u001b[0m: name 'image_list' is not defined"
     ]
    }
   ],
   "source": [
    "what_is_this = anchor_generator(image_list, [feature_map])"
   ]
  },
  {
   "cell_type": "code",
   "execution_count": 15,
   "id": "ad296641-b97c-4ec3-8513-0d4ebad65fda",
   "metadata": {},
   "outputs": [
    {
     "name": "stdout",
     "output_type": "stream",
     "text": [
      "Here ye, here ye! This object is the output of pytorch's anchor generator!\n"
     ]
    },
    {
     "ename": "NameError",
     "evalue": "name 'what_is_this' is not defined",
     "output_type": "error",
     "traceback": [
      "\u001b[0;31m---------------------------------------------------------------------------\u001b[0m",
      "\u001b[0;31mNameError\u001b[0m                                 Traceback (most recent call last)",
      "\u001b[0;32m/var/folders/rx/tdr18_yd3m16f7mq07kfl1dr0000gn/T/ipykernel_9028/3354672682.py\u001b[0m in \u001b[0;36m<module>\u001b[0;34m\u001b[0m\n\u001b[1;32m      1\u001b[0m \u001b[0mprint\u001b[0m\u001b[0;34m(\u001b[0m\u001b[0;34m\"Here ye, here ye! This object is the output of pytorch's anchor generator!\"\u001b[0m\u001b[0;34m)\u001b[0m\u001b[0;34m\u001b[0m\u001b[0;34m\u001b[0m\u001b[0m\n\u001b[0;32m----> 2\u001b[0;31m \u001b[0mprint\u001b[0m\u001b[0;34m(\u001b[0m\u001b[0;34mf\"It is of type: {type(what_is_this)}\"\u001b[0m\u001b[0;34m)\u001b[0m\u001b[0;34m\u001b[0m\u001b[0;34m\u001b[0m\u001b[0m\n\u001b[0m\u001b[1;32m      3\u001b[0m \u001b[0;32mfor\u001b[0m \u001b[0mi\u001b[0m\u001b[0;34m,\u001b[0m \u001b[0mthing\u001b[0m \u001b[0;32min\u001b[0m \u001b[0menumerate\u001b[0m\u001b[0;34m(\u001b[0m\u001b[0mwhat_is_this\u001b[0m\u001b[0;34m)\u001b[0m\u001b[0;34m:\u001b[0m\u001b[0;34m\u001b[0m\u001b[0;34m\u001b[0m\u001b[0m\n\u001b[1;32m      4\u001b[0m     \u001b[0mprint\u001b[0m\u001b[0;34m(\u001b[0m\u001b[0;34mf\"the {i} element of this list is of type{type(thing)}\"\u001b[0m\u001b[0;34m)\u001b[0m\u001b[0;34m\u001b[0m\u001b[0;34m\u001b[0m\u001b[0m\n",
      "\u001b[0;31mNameError\u001b[0m: name 'what_is_this' is not defined"
     ]
    }
   ],
   "source": [
    "print(\"Here ye, here ye! This object is the output of pytorch's anchor generator!\")\n",
    "print(f\"It is of type: {type(what_is_this)}\")\n",
    "for i, thing in enumerate(what_is_this):\n",
    "    print(f\"the {i} element of this list is of type{type(thing)}\")"
   ]
  },
  {
   "cell_type": "code",
   "execution_count": 16,
   "id": "5938fc3d",
   "metadata": {},
   "outputs": [
    {
     "ename": "NameError",
     "evalue": "name 'what_is_this' is not defined",
     "output_type": "error",
     "traceback": [
      "\u001b[0;31m---------------------------------------------------------------------------\u001b[0m",
      "\u001b[0;31mNameError\u001b[0m                                 Traceback (most recent call last)",
      "\u001b[0;32m/var/folders/rx/tdr18_yd3m16f7mq07kfl1dr0000gn/T/ipykernel_9028/2997577371.py\u001b[0m in \u001b[0;36m<module>\u001b[0;34m\u001b[0m\n\u001b[0;32m----> 1\u001b[0;31m \u001b[0mprint\u001b[0m\u001b[0;34m(\u001b[0m\u001b[0mwhat_is_this\u001b[0m\u001b[0;34m[\u001b[0m\u001b[0;36m0\u001b[0m\u001b[0;34m]\u001b[0m\u001b[0;34m.\u001b[0m\u001b[0mshape\u001b[0m\u001b[0;34m)\u001b[0m\u001b[0;34m\u001b[0m\u001b[0;34m\u001b[0m\u001b[0m\n\u001b[0m",
      "\u001b[0;31mNameError\u001b[0m: name 'what_is_this' is not defined"
     ]
    }
   ],
   "source": [
    "print(what_is_this[0].shape)"
   ]
  },
  {
   "cell_type": "code",
   "execution_count": 17,
   "id": "cdb14ef7",
   "metadata": {},
   "outputs": [
    {
     "ename": "NameError",
     "evalue": "name 'what_is_this' is not defined",
     "output_type": "error",
     "traceback": [
      "\u001b[0;31m---------------------------------------------------------------------------\u001b[0m",
      "\u001b[0;31mNameError\u001b[0m                                 Traceback (most recent call last)",
      "\u001b[0;32m/var/folders/rx/tdr18_yd3m16f7mq07kfl1dr0000gn/T/ipykernel_9028/2616593016.py\u001b[0m in \u001b[0;36m<module>\u001b[0;34m\u001b[0m\n\u001b[0;32m----> 1\u001b[0;31m \u001b[0mprint\u001b[0m\u001b[0;34m(\u001b[0m\u001b[0mwhat_is_this\u001b[0m\u001b[0;34m)\u001b[0m\u001b[0;34m\u001b[0m\u001b[0;34m\u001b[0m\u001b[0m\n\u001b[0m",
      "\u001b[0;31mNameError\u001b[0m: name 'what_is_this' is not defined"
     ]
    }
   ],
   "source": [
    "print(what_is_this)"
   ]
  },
  {
   "cell_type": "code",
   "execution_count": 18,
   "id": "166617c8",
   "metadata": {},
   "outputs": [
    {
     "data": {
      "text/plain": [
       "9"
      ]
     },
     "execution_count": 18,
     "metadata": {},
     "output_type": "execute_result"
    }
   ],
   "source": [
    "anchor_generator.num_anchors_per_location()[0]"
   ]
  },
  {
   "cell_type": "code",
   "execution_count": 19,
   "id": "9c70e174",
   "metadata": {},
   "outputs": [],
   "source": [
    "#anchor_generator.num_anchors_per_location()"
   ]
  },
  {
   "cell_type": "markdown",
   "id": "fa3c9040-9d8c-4004-ba63-a4b5bcd2f98c",
   "metadata": {},
   "source": [
    "## what does pascal VOC detection data look like?"
   ]
  },
  {
   "cell_type": "code",
   "execution_count": 20,
   "id": "3f759a57-bdcf-4cdb-9fe9-225540230a17",
   "metadata": {},
   "outputs": [
    {
     "ename": "NameError",
     "evalue": "name 'voc_2012_dataset' is not defined",
     "output_type": "error",
     "traceback": [
      "\u001b[0;31m---------------------------------------------------------------------------\u001b[0m",
      "\u001b[0;31mNameError\u001b[0m                                 Traceback (most recent call last)",
      "\u001b[0;32m/var/folders/rx/tdr18_yd3m16f7mq07kfl1dr0000gn/T/ipykernel_9028/1042564740.py\u001b[0m in \u001b[0;36m<module>\u001b[0;34m\u001b[0m\n\u001b[0;32m----> 1\u001b[0;31m \u001b[0mtype\u001b[0m\u001b[0;34m(\u001b[0m\u001b[0mvoc_2012_dataset\u001b[0m\u001b[0;34m[\u001b[0m\u001b[0;36m0\u001b[0m\u001b[0;34m]\u001b[0m\u001b[0;34m)\u001b[0m\u001b[0;34m\u001b[0m\u001b[0;34m\u001b[0m\u001b[0m\n\u001b[0m",
      "\u001b[0;31mNameError\u001b[0m: name 'voc_2012_dataset' is not defined"
     ]
    }
   ],
   "source": [
    "type(voc_2012_dataset[0])"
   ]
  },
  {
   "cell_type": "code",
   "execution_count": 21,
   "id": "2384dfd8-58a7-4bb7-9098-893d77ae3820",
   "metadata": {},
   "outputs": [
    {
     "ename": "NameError",
     "evalue": "name 'voc_2012_dataset' is not defined",
     "output_type": "error",
     "traceback": [
      "\u001b[0;31m---------------------------------------------------------------------------\u001b[0m",
      "\u001b[0;31mNameError\u001b[0m                                 Traceback (most recent call last)",
      "\u001b[0;32m/var/folders/rx/tdr18_yd3m16f7mq07kfl1dr0000gn/T/ipykernel_9028/3999501269.py\u001b[0m in \u001b[0;36m<module>\u001b[0;34m\u001b[0m\n\u001b[0;32m----> 1\u001b[0;31m \u001b[0mlen\u001b[0m\u001b[0;34m(\u001b[0m\u001b[0mvoc_2012_dataset\u001b[0m\u001b[0;34m[\u001b[0m\u001b[0;36m0\u001b[0m\u001b[0;34m]\u001b[0m\u001b[0;34m)\u001b[0m\u001b[0;34m\u001b[0m\u001b[0;34m\u001b[0m\u001b[0m\n\u001b[0m",
      "\u001b[0;31mNameError\u001b[0m: name 'voc_2012_dataset' is not defined"
     ]
    }
   ],
   "source": [
    "len(voc_2012_dataset[0])"
   ]
  },
  {
   "cell_type": "markdown",
   "id": "3738418d-ee25-4c17-b411-f172cdb7eb0b",
   "metadata": {},
   "source": [
    "## Can we send data through an RPN?\n",
    "\n",
    "I thinkkkk I have enough information about the RPN in pytorch to pass data through it"
   ]
  },
  {
   "cell_type": "code",
   "execution_count": 3,
   "id": "7f494015-5925-4b54-ba7d-aeada5c13f23",
   "metadata": {},
   "outputs": [],
   "source": [
    "def vgg16_featuremapper():\n",
    "    model_repo = 'pytorch/vision:v0.10.1'\n",
    "    model_name = 'vgg16'\n",
    "    full_pretrained_vgg16 = torch.hub.load(\n",
    "        repo_or_dir=model_repo,\n",
    "        model=model_name,\n",
    "        #pretrained=True\n",
    "    )\n",
    "    for child in full_pretrained_vgg16.children():\n",
    "        break\n",
    "    model = torch.nn.Sequential(child)\n",
    "    return model\n",
    "\n",
    "anchor_generator = AnchorGenerator()\n",
    "num_feature_map_channels = 512\n",
    "\n",
    "rpn_pre_nms_top_n = {\"training\": 2000, \"testing\": 1000}\n",
    "rpn_post_nms_top_n = {\"training\": 2000, \"testing\": 1000}\n",
    "rpn_nms_thresh = 0.7\n",
    "rpn_fg_iou_thresh = 0.7\n",
    "rpn_bg_iou_thresh = 0.2\n",
    "rpn_batch_size_per_image = 256\n",
    "rpn_positive_fraction = 0.5\n",
    "\n",
    "class BasicRegionProposalNetwork():\n",
    "    \"\"\"The simplest iteration of a region proposal network\n",
    "    as faithful to the original implementation from the paper\n",
    "    as possible\"\"\"\n",
    "\n",
    "    def __init__(self):\n",
    "        super().__init__()\n",
    "        self.vgg16_backbone = vgg16_featuremapper()\n",
    "        self.anchor_generator = anchor_generator\n",
    "        self.anchors_per_location = anchor_generator.num_anchors_per_location()[0]\n",
    "        self.rpn_head = rpn.RPNHead(in_channels=num_feature_map_channels,\n",
    "                                    num_anchors=self.anchors_per_location)\n",
    "        self.region_proposal_network = rpn.RegionProposalNetwork(\n",
    "            anchor_generator=anchor_generator,\n",
    "            head=self.rpn_head,\n",
    "            fg_iou_thresh=rpn_fg_iou_thresh,\n",
    "            bg_iou_thresh=rpn_bg_iou_thresh,\n",
    "            batch_size_per_image=rpn_batch_size_per_image,\n",
    "            positive_fraction=rpn_positive_fraction,\n",
    "            pre_nms_top_n=rpn_pre_nms_top_n,\n",
    "            post_nms_top_n=rpn_post_nms_top_n,\n",
    "            nms_thresh=rpn_nms_thresh\n",
    "            )"
   ]
  },
  {
   "cell_type": "code",
   "execution_count": 4,
   "id": "9c14ff43-3e89-43c2-99f9-4297461a26ac",
   "metadata": {},
   "outputs": [],
   "source": [
    "voc_2012_dataset = datasets.VOCDetection(root='/Users/carlosolivares/throwaway/pascalVOC',\n",
    "                                        download=False,\n",
    "                                        image_set='trainval',\n",
    "                                        transforms=None,\n",
    "                                       )"
   ]
  },
  {
   "cell_type": "code",
   "execution_count": 5,
   "id": "7801ad2e-9f96-4aeb-9171-eb8fc1e90c5e",
   "metadata": {},
   "outputs": [],
   "source": [
    "normalize = T.Normalize(mean=[0.485, 0.456, 0.406],\n",
    "                                 std=[0.229, 0.224, 0.225])\n",
    "\n",
    "standard_transform = T.Compose(\n",
    "    [\n",
    "        T.Resize((256,256)),\n",
    "        T.ToTensor(),\n",
    "        normalize,\n",
    "    ]\n",
    ")"
   ]
  },
  {
   "cell_type": "code",
   "execution_count": 6,
   "id": "d55f7d07-3ced-4ec3-8c35-736312c15404",
   "metadata": {},
   "outputs": [],
   "source": [
    "image, metadata = voc_2012_dataset[0]"
   ]
  },
  {
   "cell_type": "code",
   "execution_count": 7,
   "id": "3e16987c-b8c3-4474-a2f9-18a91202f3f0",
   "metadata": {},
   "outputs": [
    {
     "data": {
      "text/plain": [
       "<matplotlib.image.AxesImage at 0x7fe99e9d1e90>"
      ]
     },
     "execution_count": 7,
     "metadata": {},
     "output_type": "execute_result"
    },
    {
     "data": {
      "image/png": "[encoded data removed]",
      "text/plain": [
       "<Figure size 432x288 with 1 Axes>"
      ]
     },
     "metadata": {
      "needs_background": "light"
     },
     "output_type": "display_data"
    }
   ],
   "source": [
    "plt.imshow(image)"
   ]
  },
  {
   "cell_type": "code",
   "execution_count": 8,
   "id": "f56b97db-8761-4182-9456-0b338b33e820",
   "metadata": {},
   "outputs": [
    {
     "name": "stdout",
     "output_type": "stream",
     "text": [
      "{'annotation': {'folder': 'VOC2012', 'filename': '2008_000002.jpg', 'source': {'database': 'The VOC2008 Database', 'annotation': 'PASCAL VOC2008', 'image': 'flickr'}, 'size': {'width': '500', 'height': '375', 'depth': '3'}, 'segmented': '0', 'object': [{'name': 'tvmonitor', 'pose': 'Frontal', 'truncated': '0', 'occluded': '0', 'bndbox': {'xmin': '34', 'ymin': '11', 'xmax': '448', 'ymax': '293'}, 'difficult': '0'}]}}\n"
     ]
    }
   ],
   "source": [
    "print(metadata)"
   ]
  },
  {
   "cell_type": "code",
   "execution_count": 9,
   "id": "3da45c71-bbf5-4e7a-80bd-aefa6f9c3d8a",
   "metadata": {},
   "outputs": [
    {
     "name": "stdout",
     "output_type": "stream",
     "text": [
      "{'xmin': '34', 'ymin': '11', 'xmax': '448', 'ymax': '293'}\n"
     ]
    }
   ],
   "source": [
    "print(metadata['annotation']['object'][0]['bndbox'])"
   ]
  },
  {
   "cell_type": "code",
   "execution_count": 10,
   "id": "7da9b866-41ee-486a-b138-d28695369182",
   "metadata": {},
   "outputs": [],
   "source": [
    "bounding_box_info = metadata['annotation']['object'][0]['bndbox']\n",
    "## pytorch expects the boundong box ground truth labels in the format:\n",
    "## torch.tensor([x1, y1, x2, y2])\n",
    "## such that: \n",
    "\n",
    "## 0 <= x1 < x2\n",
    "## 0 <= y1 < y2\n",
    "\n",
    "bounding_box_gt = torch.tensor(\n",
    "    [\n",
    "        int(bounding_box_info['xmin']),\n",
    "        int(bounding_box_info['ymin']),\n",
    "        int(bounding_box_info['xmax']),\n",
    "        int(bounding_box_info['ymax'])\n",
    "    ]).unsqueeze(dim=0)\n",
    "\n",
    "rpn_loss_targets = {'boxes': bounding_box_gt}\n",
    "\n",
    "targets_batch = [rpn_loss_targets]"
   ]
  },
  {
   "cell_type": "code",
   "execution_count": 11,
   "id": "2c8f452f-cfa7-428b-b91b-b7b76496eaaf",
   "metadata": {},
   "outputs": [
    {
     "data": {
      "text/plain": [
       "[{'boxes': tensor([[ 34,  11, 448, 293]])}]"
      ]
     },
     "execution_count": 11,
     "metadata": {},
     "output_type": "execute_result"
    }
   ],
   "source": [
    "targets_batch"
   ]
  },
  {
   "cell_type": "code",
   "execution_count": 12,
   "id": "b5f5c4e8-9321-4a2b-ae5d-e7c4e73bb5dc",
   "metadata": {},
   "outputs": [
    {
     "name": "stderr",
     "output_type": "stream",
     "text": [
      "Using cache found in /Users/carlosolivares/.cache/torch/hub/pytorch_vision_v0.10.1\n"
     ]
    }
   ],
   "source": [
    "basic_rpn = BasicRegionProposalNetwork()"
   ]
  },
  {
   "cell_type": "code",
   "execution_count": 13,
   "id": "adb9c21a-ef62-49ed-8d3b-1132cc95e480",
   "metadata": {},
   "outputs": [],
   "source": [
    "feature_map = basic_rpn.vgg16_backbone(standard_transform(image))"
   ]
  },
  {
   "cell_type": "code",
   "execution_count": 14,
   "id": "0fad5ef0-7e9e-426e-8e41-34cdd8ff9bac",
   "metadata": {},
   "outputs": [
    {
     "name": "stdout",
     "output_type": "stream",
     "text": [
      "torch.Size([512, 8, 8])\n"
     ]
    }
   ],
   "source": [
    "print(feature_map.shape)"
   ]
  },
  {
   "cell_type": "code",
   "execution_count": 15,
   "id": "30aaaafe-c7d2-4744-9b90-b6c8dd3c0a3b",
   "metadata": {},
   "outputs": [],
   "source": [
    "feature_batch_input = [{'0': feature_map}]"
   ]
  },
  {
   "cell_type": "code",
   "execution_count": 16,
   "id": "5a3e6ea7-1621-4821-877a-cdf3c5e9d572",
   "metadata": {},
   "outputs": [],
   "source": [
    "images_batch_input = ImageList(tensors=standard_transform(image), image_sizes=[(256,256)])"
   ]
  },
  {
   "cell_type": "code",
   "execution_count": 17,
   "id": "e381d987-4ed6-49b3-8a68-0f0e93168658",
   "metadata": {},
   "outputs": [],
   "source": [
    "test = basic_rpn.rpn_head([feature_map])"
   ]
  },
  {
   "cell_type": "code",
   "execution_count": 18,
   "id": "7398f125-6384-4cc6-9ffd-6844b14913a3",
   "metadata": {},
   "outputs": [
    {
     "data": {
      "text/plain": [
       "tuple"
      ]
     },
     "execution_count": 18,
     "metadata": {},
     "output_type": "execute_result"
    }
   ],
   "source": [
    "type(test)"
   ]
  },
  {
   "cell_type": "code",
   "execution_count": 19,
   "id": "4578e829-952a-468f-ad9d-f8a0f2cb5093",
   "metadata": {},
   "outputs": [
    {
     "name": "stdout",
     "output_type": "stream",
     "text": [
      "2\n"
     ]
    }
   ],
   "source": [
    "print(len(test))"
   ]
  },
  {
   "cell_type": "code",
   "execution_count": 20,
   "id": "a76cab47-9c41-493a-8374-ef82d7ae7939",
   "metadata": {},
   "outputs": [],
   "source": [
    "logits, bbox_reg = test"
   ]
  },
  {
   "cell_type": "code",
   "execution_count": 21,
   "id": "d0fdeeb5-e322-49a3-a0f7-3497012ee222",
   "metadata": {},
   "outputs": [
    {
     "name": "stdout",
     "output_type": "stream",
     "text": [
      "torch.Size([9, 8, 8])\n"
     ]
    }
   ],
   "source": [
    "print(logits[0].shape)"
   ]
  },
  {
   "cell_type": "code",
   "execution_count": 22,
   "id": "5da53f2e-5e28-4564-bc83-b94f2661de0e",
   "metadata": {},
   "outputs": [
    {
     "data": {
      "text/plain": [
       "torch.Size([36, 8, 8])"
      ]
     },
     "execution_count": 22,
     "metadata": {},
     "output_type": "execute_result"
    }
   ],
   "source": [
    "bbox_reg[0].shape"
   ]
  },
  {
   "cell_type": "code",
   "execution_count": 24,
   "id": "8ec715ce-e483-426a-b909-8fa558d64d27",
   "metadata": {},
   "outputs": [
    {
     "ename": "IndexError",
     "evalue": "tuple index out of range",
     "output_type": "error",
     "traceback": [
      "\u001b[0;31m---------------------------------------------------------------------------\u001b[0m",
      "\u001b[0;31mIndexError\u001b[0m                                Traceback (most recent call last)",
      "\u001b[0;32m/var/folders/rx/tdr18_yd3m16f7mq07kfl1dr0000gn/T/ipykernel_2302/1334888306.py\u001b[0m in \u001b[0;36m<module>\u001b[0;34m\u001b[0m\n\u001b[1;32m      1\u001b[0m test = basic_rpn.region_proposal_network(images=images_batch_input,\n\u001b[1;32m      2\u001b[0m                                          \u001b[0mfeatures\u001b[0m\u001b[0;34m=\u001b[0m\u001b[0;34m{\u001b[0m\u001b[0;34m'0'\u001b[0m\u001b[0;34m:\u001b[0m \u001b[0mfeature_map\u001b[0m\u001b[0;34m}\u001b[0m\u001b[0;34m,\u001b[0m\u001b[0;34m\u001b[0m\u001b[0;34m\u001b[0m\u001b[0m\n\u001b[0;32m----> 3\u001b[0;31m                                          \u001b[0mtargets\u001b[0m\u001b[0;34m=\u001b[0m\u001b[0mtargets_batch\u001b[0m\u001b[0;34m\u001b[0m\u001b[0;34m\u001b[0m\u001b[0m\n\u001b[0m\u001b[1;32m      4\u001b[0m )\n",
      "\u001b[0;32m/opt/miniconda3/envs/basic-pytorch/lib/python3.7/site-packages/torch/nn/modules/module.py\u001b[0m in \u001b[0;36m_call_impl\u001b[0;34m(self, *input, **kwargs)\u001b[0m\n\u001b[1;32m   1128\u001b[0m         if not (self._backward_hooks or self._forward_hooks or self._forward_pre_hooks or _global_backward_hooks\n\u001b[1;32m   1129\u001b[0m                 or _global_forward_hooks or _global_forward_pre_hooks):\n\u001b[0;32m-> 1130\u001b[0;31m             \u001b[0;32mreturn\u001b[0m \u001b[0mforward_call\u001b[0m\u001b[0;34m(\u001b[0m\u001b[0;34m*\u001b[0m\u001b[0minput\u001b[0m\u001b[0;34m,\u001b[0m \u001b[0;34m**\u001b[0m\u001b[0mkwargs\u001b[0m\u001b[0;34m)\u001b[0m\u001b[0;34m\u001b[0m\u001b[0;34m\u001b[0m\u001b[0m\n\u001b[0m\u001b[1;32m   1131\u001b[0m         \u001b[0;31m# Do not call functions when jit is used\u001b[0m\u001b[0;34m\u001b[0m\u001b[0;34m\u001b[0m\u001b[0;34m\u001b[0m\u001b[0m\n\u001b[1;32m   1132\u001b[0m         \u001b[0mfull_backward_hooks\u001b[0m\u001b[0;34m,\u001b[0m \u001b[0mnon_full_backward_hooks\u001b[0m \u001b[0;34m=\u001b[0m \u001b[0;34m[\u001b[0m\u001b[0;34m]\u001b[0m\u001b[0;34m,\u001b[0m \u001b[0;34m[\u001b[0m\u001b[0;34m]\u001b[0m\u001b[0;34m\u001b[0m\u001b[0;34m\u001b[0m\u001b[0m\n",
      "\u001b[0;32m/opt/miniconda3/envs/basic-pytorch/lib/python3.7/site-packages/torchvision/models/detection/rpn.py\u001b[0m in \u001b[0;36mforward\u001b[0;34m(self, images, features, targets)\u001b[0m\n\u001b[1;32m    367\u001b[0m         \u001b[0mnum_images\u001b[0m \u001b[0;34m=\u001b[0m \u001b[0mlen\u001b[0m\u001b[0;34m(\u001b[0m\u001b[0manchors\u001b[0m\u001b[0;34m)\u001b[0m\u001b[0;34m\u001b[0m\u001b[0;34m\u001b[0m\u001b[0m\n\u001b[1;32m    368\u001b[0m         \u001b[0mnum_anchors_per_level_shape_tensors\u001b[0m \u001b[0;34m=\u001b[0m \u001b[0;34m[\u001b[0m\u001b[0mo\u001b[0m\u001b[0;34m[\u001b[0m\u001b[0;36m0\u001b[0m\u001b[0;34m]\u001b[0m\u001b[0;34m.\u001b[0m\u001b[0mshape\u001b[0m \u001b[0;32mfor\u001b[0m \u001b[0mo\u001b[0m \u001b[0;32min\u001b[0m \u001b[0mobjectness\u001b[0m\u001b[0;34m]\u001b[0m\u001b[0;34m\u001b[0m\u001b[0;34m\u001b[0m\u001b[0m\n\u001b[0;32m--> 369\u001b[0;31m         \u001b[0mnum_anchors_per_level\u001b[0m \u001b[0;34m=\u001b[0m \u001b[0;34m[\u001b[0m\u001b[0ms\u001b[0m\u001b[0;34m[\u001b[0m\u001b[0;36m0\u001b[0m\u001b[0;34m]\u001b[0m \u001b[0;34m*\u001b[0m \u001b[0ms\u001b[0m\u001b[0;34m[\u001b[0m\u001b[0;36m1\u001b[0m\u001b[0;34m]\u001b[0m \u001b[0;34m*\u001b[0m \u001b[0ms\u001b[0m\u001b[0;34m[\u001b[0m\u001b[0;36m2\u001b[0m\u001b[0;34m]\u001b[0m \u001b[0;32mfor\u001b[0m \u001b[0ms\u001b[0m \u001b[0;32min\u001b[0m \u001b[0mnum_anchors_per_level_shape_tensors\u001b[0m\u001b[0;34m]\u001b[0m\u001b[0;34m\u001b[0m\u001b[0;34m\u001b[0m\u001b[0m\n\u001b[0m\u001b[1;32m    370\u001b[0m         \u001b[0mobjectness\u001b[0m\u001b[0;34m,\u001b[0m \u001b[0mpred_bbox_deltas\u001b[0m \u001b[0;34m=\u001b[0m \u001b[0mconcat_box_prediction_layers\u001b[0m\u001b[0;34m(\u001b[0m\u001b[0mobjectness\u001b[0m\u001b[0;34m,\u001b[0m \u001b[0mpred_bbox_deltas\u001b[0m\u001b[0;34m)\u001b[0m\u001b[0;34m\u001b[0m\u001b[0;34m\u001b[0m\u001b[0m\n\u001b[1;32m    371\u001b[0m         \u001b[0;31m# apply pred_bbox_deltas to anchors to obtain the decoded proposals\u001b[0m\u001b[0;34m\u001b[0m\u001b[0;34m\u001b[0m\u001b[0;34m\u001b[0m\u001b[0m\n",
      "\u001b[0;32m/opt/miniconda3/envs/basic-pytorch/lib/python3.7/site-packages/torchvision/models/detection/rpn.py\u001b[0m in \u001b[0;36m<listcomp>\u001b[0;34m(.0)\u001b[0m\n\u001b[1;32m    367\u001b[0m         \u001b[0mnum_images\u001b[0m \u001b[0;34m=\u001b[0m \u001b[0mlen\u001b[0m\u001b[0;34m(\u001b[0m\u001b[0manchors\u001b[0m\u001b[0;34m)\u001b[0m\u001b[0;34m\u001b[0m\u001b[0;34m\u001b[0m\u001b[0m\n\u001b[1;32m    368\u001b[0m         \u001b[0mnum_anchors_per_level_shape_tensors\u001b[0m \u001b[0;34m=\u001b[0m \u001b[0;34m[\u001b[0m\u001b[0mo\u001b[0m\u001b[0;34m[\u001b[0m\u001b[0;36m0\u001b[0m\u001b[0;34m]\u001b[0m\u001b[0;34m.\u001b[0m\u001b[0mshape\u001b[0m \u001b[0;32mfor\u001b[0m \u001b[0mo\u001b[0m \u001b[0;32min\u001b[0m \u001b[0mobjectness\u001b[0m\u001b[0;34m]\u001b[0m\u001b[0;34m\u001b[0m\u001b[0;34m\u001b[0m\u001b[0m\n\u001b[0;32m--> 369\u001b[0;31m         \u001b[0mnum_anchors_per_level\u001b[0m \u001b[0;34m=\u001b[0m \u001b[0;34m[\u001b[0m\u001b[0ms\u001b[0m\u001b[0;34m[\u001b[0m\u001b[0;36m0\u001b[0m\u001b[0;34m]\u001b[0m \u001b[0;34m*\u001b[0m \u001b[0ms\u001b[0m\u001b[0;34m[\u001b[0m\u001b[0;36m1\u001b[0m\u001b[0;34m]\u001b[0m \u001b[0;34m*\u001b[0m \u001b[0ms\u001b[0m\u001b[0;34m[\u001b[0m\u001b[0;36m2\u001b[0m\u001b[0;34m]\u001b[0m \u001b[0;32mfor\u001b[0m \u001b[0ms\u001b[0m \u001b[0;32min\u001b[0m \u001b[0mnum_anchors_per_level_shape_tensors\u001b[0m\u001b[0;34m]\u001b[0m\u001b[0;34m\u001b[0m\u001b[0;34m\u001b[0m\u001b[0m\n\u001b[0m\u001b[1;32m    370\u001b[0m         \u001b[0mobjectness\u001b[0m\u001b[0;34m,\u001b[0m \u001b[0mpred_bbox_deltas\u001b[0m \u001b[0;34m=\u001b[0m \u001b[0mconcat_box_prediction_layers\u001b[0m\u001b[0;34m(\u001b[0m\u001b[0mobjectness\u001b[0m\u001b[0;34m,\u001b[0m \u001b[0mpred_bbox_deltas\u001b[0m\u001b[0;34m)\u001b[0m\u001b[0;34m\u001b[0m\u001b[0;34m\u001b[0m\u001b[0m\n\u001b[1;32m    371\u001b[0m         \u001b[0;31m# apply pred_bbox_deltas to anchors to obtain the decoded proposals\u001b[0m\u001b[0;34m\u001b[0m\u001b[0;34m\u001b[0m\u001b[0;34m\u001b[0m\u001b[0m\n",
      "\u001b[0;31mIndexError\u001b[0m: tuple index out of range"
     ]
    }
   ],
   "source": [
    "test = basic_rpn.region_proposal_network(images=images_batch_input,\n",
    "                                         features={'0': feature_map},\n",
    "                                         targets=targets_batch\n",
    ")"
   ]
  },
  {
   "cell_type": "code",
   "execution_count": null,
   "id": "1560a3c6-e363-401f-8664-822247cb01c3",
   "metadata": {},
   "outputs": [],
   "source": []
  }
 ],
 "metadata": {
  "kernelspec": {
   "display_name": "Python [conda env:basic-pytorch]",
   "language": "python",
   "name": "conda-env-basic-pytorch-py"
  },
  "language_info": {
   "codemirror_mode": {
    "name": "ipython",
    "version": 3
   },
   "file_extension": ".py",
   "mimetype": "text/x-python",
   "name": "python",
   "nbconvert_exporter": "python",
   "pygments_lexer": "ipython3",
   "version": "3.7.13"
  }
 },
 "nbformat": 4,
 "nbformat_minor": 5
}
